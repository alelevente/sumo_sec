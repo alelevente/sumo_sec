{
 "cells": [
  {
   "cell_type": "markdown",
   "id": "0fe45ad4-203b-40f1-a1eb-c10e10bea6d8",
   "metadata": {},
   "source": [
    "# **Federated learning server without local data sharing**"
   ]
  },
  {
   "cell_type": "code",
   "execution_count": 1,
   "id": "f3ac3c8f-7c3a-46a1-ae15-c8fc8ecbb899",
   "metadata": {},
   "outputs": [],
   "source": [
    "import tensorflow as tf\n",
    "from tensorflow import keras\n",
    "\n",
    "import numpy as np\n",
    "import pandas as pd\n",
    "\n",
    "import json\n",
    "\n",
    "import sys\n",
    "sys.path.append(\"../\")\n",
    "import neural_network\n",
    "import utils\n",
    "\n",
    "import infer_tools\n",
    "import participant\n",
    "\n",
    "import concurrent.futures\n",
    "#from multiprocessing.pool import ThreadPool\n",
    "\n",
    "from tqdm.notebook import trange\n",
    "\n",
    "from datetime import datetime\n",
    "\n",
    "#tf.config.set_visible_devices([], 'GPU')"
   ]
  },
  {
   "cell_type": "markdown",
   "id": "49f004d2-0b28-473d-bd81-59afe22a3322",
   "metadata": {},
   "source": [
    "gpus = tf.config.experimental.list_physical_devices('GPU')\n",
    "if gpus:\n",
    "    try:\n",
    "        for gpu in gpus:\n",
    "            tf.config.experimental.set_memory_growth(gpu, True)\n",
    "\n",
    "    except RuntimeError as e:\n",
    "        print(e)"
   ]
  },
  {
   "cell_type": "markdown",
   "id": "8ab16981-695d-4536-8a8f-3559a566293d",
   "metadata": {},
   "source": [
    "## **Preparations**"
   ]
  },
  {
   "cell_type": "code",
   "execution_count": 2,
   "id": "72ebafa2-d19b-4822-8179-e8d9447a7d21",
   "metadata": {},
   "outputs": [],
   "source": [
    "with open(\"../../02_data/filtered_vehicles.json\", \"r\") as f:\n",
    "    filtered_vehicles = json.load(f)\n",
    "with open(\"../../dockeroutput/day_0/vehicle_maps.json\", \"r\") as f:\n",
    "    vehicle_maps = json.load(f)\n",
    "    veh_to_idx_map = vehicle_maps[\"vehicle_to_idx_map\"]\n",
    "    idx_to_veh_map = vehicle_maps[\"idx_to_vehicle_map\"]"
   ]
  },
  {
   "cell_type": "code",
   "execution_count": 3,
   "id": "5397fa88-079d-4461-bf06-56f3ee465bc7",
   "metadata": {},
   "outputs": [],
   "source": [
    "filtered_vehicles = filtered_vehicles[\"vehicles\"]"
   ]
  },
  {
   "cell_type": "code",
   "execution_count": 4,
   "id": "c4967c88-d6c3-425b-98d8-98cac23acc06",
   "metadata": {},
   "outputs": [],
   "source": [
    "settings = {\n",
    "    \"min\": 18220,\n",
    "    \"max\": 46800,\n",
    "    \"mean\": 0.59,\n",
    "    \"std\": 0.35302\n",
    "}\n",
    "\n",
    "PARKING_ID_LIST = [i for i in range(1059, 1186+1)]"
   ]
  },
  {
   "cell_type": "code",
   "execution_count": 5,
   "id": "adfad32e-39c8-497c-aedc-326ad131caf1",
   "metadata": {},
   "outputs": [],
   "source": [
    "test_t = np.arange(14460, 50400+1, 60)\n",
    "test_t = utils.normalize(test_t, settings[\"min\"], settings[\"max\"])"
   ]
  },
  {
   "cell_type": "code",
   "execution_count": 6,
   "id": "3c23e6ee-7e3b-40d0-b31b-1db23b2d4feb",
   "metadata": {},
   "outputs": [],
   "source": [
    "oracle = pd.read_csv(\"../../02_data/oracle.csv\")"
   ]
  },
  {
   "cell_type": "code",
   "execution_count": 7,
   "id": "5165fc5d-170d-4894-b0ec-e561aad889b8",
   "metadata": {},
   "outputs": [],
   "source": [
    "plist=[i for i in range(1059,1186+1)]\n",
    "plist.remove(1148)\n",
    "settings[\"parkings\"] = plist\n",
    "parking_testset = None\n",
    "for parking in plist:\n",
    "    id_encoding = utils.one_hot_encoder([parking]*len(test_t), PARKING_ID_LIST)\n",
    "    test_d = np.hstack([id_encoding, test_t.reshape(len(test_t), 1)])\n",
    "    if parking_testset is None:\n",
    "        parking_testset = test_d\n",
    "    else:\n",
    "        parking_testset = np.vstack([parking_testset, test_d])"
   ]
  },
  {
   "cell_type": "code",
   "execution_count": 8,
   "id": "3c2e9cde-fec9-48cb-b861-4c9b27604adc",
   "metadata": {},
   "outputs": [],
   "source": [
    "with open(\"../../02_data/known_parkings.json\", \"r\") as f:\n",
    "    known_parkings_by_vehicles = json.load(f)\n",
    "with open(\"../../02_data/known_moving_times.json\", \"r\") as f:\n",
    "    known_moving_times = json.load(f)"
   ]
  },
  {
   "cell_type": "markdown",
   "id": "d18920ef-d1d3-4135-b842-3c0d607eb52a",
   "metadata": {},
   "source": [
    "## **Learning**"
   ]
  },
  {
   "cell_type": "code",
   "execution_count": 9,
   "id": "5dbd872a-f8b3-46c5-abfb-24581cf56530",
   "metadata": {},
   "outputs": [],
   "source": [
    "NUM_VEHICLES = 50"
   ]
  },
  {
   "cell_type": "code",
   "execution_count": 10,
   "id": "2c8f8adf-cdd2-47e3-b72c-6972702116f9",
   "metadata": {},
   "outputs": [
    {
     "name": "stderr",
     "output_type": "stream",
     "text": [
      "2023-02-09 13:39:53.319319: I tensorflow/stream_executor/cuda/cuda_gpu_executor.cc:975] successful NUMA node read from SysFS had negative value (-1), but there must be at least one NUMA node, so returning NUMA node zero\n",
      "2023-02-09 13:39:53.372697: I tensorflow/stream_executor/cuda/cuda_gpu_executor.cc:975] successful NUMA node read from SysFS had negative value (-1), but there must be at least one NUMA node, so returning NUMA node zero\n",
      "2023-02-09 13:39:53.372918: I tensorflow/stream_executor/cuda/cuda_gpu_executor.cc:975] successful NUMA node read from SysFS had negative value (-1), but there must be at least one NUMA node, so returning NUMA node zero\n",
      "2023-02-09 13:39:53.374070: I tensorflow/core/platform/cpu_feature_guard.cc:193] This TensorFlow binary is optimized with oneAPI Deep Neural Network Library (oneDNN) to use the following CPU instructions in performance-critical operations:  AVX2 FMA\n",
      "To enable them in other operations, rebuild TensorFlow with the appropriate compiler flags.\n",
      "2023-02-09 13:39:53.375095: I tensorflow/stream_executor/cuda/cuda_gpu_executor.cc:975] successful NUMA node read from SysFS had negative value (-1), but there must be at least one NUMA node, so returning NUMA node zero\n",
      "2023-02-09 13:39:53.375275: I tensorflow/stream_executor/cuda/cuda_gpu_executor.cc:975] successful NUMA node read from SysFS had negative value (-1), but there must be at least one NUMA node, so returning NUMA node zero\n",
      "2023-02-09 13:39:53.375432: I tensorflow/stream_executor/cuda/cuda_gpu_executor.cc:975] successful NUMA node read from SysFS had negative value (-1), but there must be at least one NUMA node, so returning NUMA node zero\n",
      "2023-02-09 13:39:54.096536: I tensorflow/stream_executor/cuda/cuda_gpu_executor.cc:975] successful NUMA node read from SysFS had negative value (-1), but there must be at least one NUMA node, so returning NUMA node zero\n",
      "2023-02-09 13:39:54.096685: I tensorflow/stream_executor/cuda/cuda_gpu_executor.cc:975] successful NUMA node read from SysFS had negative value (-1), but there must be at least one NUMA node, so returning NUMA node zero\n",
      "2023-02-09 13:39:54.096794: I tensorflow/stream_executor/cuda/cuda_gpu_executor.cc:975] successful NUMA node read from SysFS had negative value (-1), but there must be at least one NUMA node, so returning NUMA node zero\n",
      "2023-02-09 13:39:54.096894: I tensorflow/core/common_runtime/gpu/gpu_device.cc:1532] Created device /job:localhost/replica:0/task:0/device:GPU:0 with 10193 MB memory:  -> device: 0, name: NVIDIA GeForce RTX 3060, pci bus id: 0000:08:00.0, compute capability: 8.6\n"
     ]
    }
   ],
   "source": [
    "participants = [participant.FLParticipant() for i in range(NUM_VEHICLES)]"
   ]
  },
  {
   "cell_type": "code",
   "execution_count": 11,
   "id": "c1d8b3c9-87b2-4478-94d1-3589eea8d318",
   "metadata": {},
   "outputs": [],
   "source": [
    "def train_participant(parameters):\n",
    "    def _train(participant, weights, veh_num, day):\n",
    "        return participant.train(weights, veh_num, day, epochs=50)\n",
    "\n",
    "    def _eval(participant, veh_id, baseline_model, oracle, parking_testset, test_t):\n",
    "        true_parkings = known_parkings_by_vehicles[veh_id]\n",
    "        true_time = known_moving_times[veh_id]\n",
    "        return infer_tools.evaluate_performance(participant.nn.model, oracle, baseline_model, parking_testset,\n",
    "                                               test_t, settings, true_parkings, true_time)\n",
    "    \n",
    "    partip = participants[parameters[0]]\n",
    "    veh_num = veh_to_idx_map[parameters[2]]\n",
    "    baseline = parameters[4]\n",
    "    #print(\"train\")\n",
    "    weights, samp_num = _train(partip, parameters[1], veh_num, parameters[3])\n",
    "    #print(\"eval\")\n",
    "    results = _eval(partip, parameters[2], baseline, parameters[5], parameters[6], parameters[7])\n",
    "    \n",
    "    return weights, samp_num, results[0], results[1]"
   ]
  },
  {
   "cell_type": "code",
   "execution_count": 12,
   "id": "4c2318f4-f932-4b51-bc8c-31a997764203",
   "metadata": {},
   "outputs": [],
   "source": [
    "def fed_avg(parameters, weights):\n",
    "        new_params = []\n",
    "        for layer_i in range(len(parameters[0])):\n",
    "            \n",
    "            new_params.append(\n",
    "                np.average([parameters[i][layer_i] for i in range(len(parameters))],\n",
    "                           weights=weights,\n",
    "                           axis=0\n",
    "                )\n",
    "            )\n",
    "        return new_params"
   ]
  },
  {
   "cell_type": "code",
   "execution_count": 13,
   "id": "fa9e9fc3-fd6c-448e-a8d6-dbe9dd0985a8",
   "metadata": {
    "tags": []
   },
   "outputs": [
    {
     "data": {
      "application/vnd.jupyter.widget-view+json": {
       "model_id": "cad13df081114a55ba4726471439952a",
       "version_major": 2,
       "version_minor": 0
      },
      "text/plain": [
       "  0%|          | 0/55 [00:00<?, ?it/s]"
      ]
     },
     "metadata": {},
     "output_type": "display_data"
    },
    {
     "name": "stdout",
     "output_type": "stream",
     "text": [
      "DAY0\tcurrent Time = 13:39:55\n",
      "WARNING:tensorflow:5 out of the last 5 calls to <function Model.make_train_function.<locals>.train_function at 0x7faaf662dcf0> triggered tf.function retracing. Tracing is expensive and the excessive number of tracings could be due to (1) creating @tf.function repeatedly in a loop, (2) passing tensors with different shapes, (3) passing Python objects instead of tensors. For (1), please define your @tf.function outside of the loop. For (2), @tf.function has reduce_retracing=True option that can avoid unnecessary retracing. For (3), please refer to https://www.tensorflow.org/guide/function#controlling_retracing and https://www.tensorflow.org/api_docs/python/tf/function for  more details.\n",
      "WARNING:tensorflow:6 out of the last 6 calls to <function Model.make_train_function.<locals>.train_function at 0x7faaf66a1a20> triggered tf.function retracing. Tracing is expensive and the excessive number of tracings could be due to (1) creating @tf.function repeatedly in a loop, (2) passing tensors with different shapes, (3) passing Python objects instead of tensors. For (1), please define your @tf.function outside of the loop. For (2), @tf.function has reduce_retracing=True option that can avoid unnecessary retracing. For (3), please refer to https://www.tensorflow.org/guide/function#controlling_retracing and https://www.tensorflow.org/api_docs/python/tf/function for  more details.\n"
     ]
    },
    {
     "name": "stderr",
     "output_type": "stream",
     "text": [
      "2023-02-09 13:40:04.376713: I tensorflow/stream_executor/cuda/cuda_blas.cc:1786] TensorFloat-32 will be used for the matrix multiplication. This will only be logged once.\n"
     ]
    },
    {
     "name": "stdout",
     "output_type": "stream",
     "text": [
      "DAY1\tcurrent Time = 13:45:34\n",
      "DAY2\tcurrent Time = 13:50:53\n",
      "DAY3\tcurrent Time = 13:56:21\n",
      "DAY4\tcurrent Time = 14:02:09\n",
      "DAY5\tcurrent Time = 14:07:36\n",
      "DAY6\tcurrent Time = 14:13:03\n",
      "DAY7\tcurrent Time = 14:19:15\n",
      "DAY8\tcurrent Time = 14:25:01\n",
      "DAY9\tcurrent Time = 14:31:05\n",
      "DAY10\tcurrent Time = 14:37:58\n",
      "DAY11\tcurrent Time = 14:44:12\n",
      "DAY12\tcurrent Time = 14:51:13\n",
      "DAY13\tcurrent Time = 14:57:44\n",
      "DAY14\tcurrent Time = 15:03:49\n",
      "DAY15\tcurrent Time = 15:10:49\n",
      "DAY16\tcurrent Time = 15:17:41\n",
      "DAY17\tcurrent Time = 15:24:57\n",
      "DAY18\tcurrent Time = 15:31:55\n",
      "DAY19\tcurrent Time = 15:37:52\n",
      "DAY20\tcurrent Time = 15:44:16\n",
      "DAY21\tcurrent Time = 15:50:36\n",
      "DAY22\tcurrent Time = 15:57:10\n",
      "DAY23\tcurrent Time = 16:04:10\n",
      "DAY24\tcurrent Time = 16:11:04\n",
      "DAY25\tcurrent Time = 16:18:28\n",
      "DAY26\tcurrent Time = 16:25:26\n",
      "DAY27\tcurrent Time = 16:32:31\n",
      "DAY28\tcurrent Time = 16:39:06\n",
      "DAY29\tcurrent Time = 16:45:54\n",
      "DAY30\tcurrent Time = 16:52:33\n",
      "DAY31\tcurrent Time = 16:59:07\n",
      "DAY32\tcurrent Time = 17:05:36\n",
      "DAY33\tcurrent Time = 17:12:54\n",
      "DAY34\tcurrent Time = 17:20:00\n",
      "DAY35\tcurrent Time = 17:28:21\n",
      "DAY36\tcurrent Time = 17:35:24\n",
      "DAY37\tcurrent Time = 17:42:54\n",
      "DAY38\tcurrent Time = 17:49:27\n",
      "DAY39\tcurrent Time = 17:56:46\n",
      "DAY40\tcurrent Time = 18:03:53\n",
      "DAY41\tcurrent Time = 18:11:26\n",
      "DAY42\tcurrent Time = 18:20:10\n",
      "DAY43\tcurrent Time = 18:27:44\n",
      "DAY44\tcurrent Time = 18:35:07\n",
      "DAY45\tcurrent Time = 18:42:59\n",
      "DAY46\tcurrent Time = 18:51:06\n",
      "DAY47\tcurrent Time = 18:58:35\n",
      "DAY48\tcurrent Time = 19:05:56\n",
      "DAY49\tcurrent Time = 19:13:06\n",
      "DAY50\tcurrent Time = 19:21:34\n",
      "DAY51\tcurrent Time = 19:29:41\n",
      "DAY52\tcurrent Time = 19:37:31\n",
      "DAY53\tcurrent Time = 19:45:22\n",
      "DAY54\tcurrent Time = 19:55:07\n"
     ]
    }
   ],
   "source": [
    "fed_model = neural_network.NeuralNetwork()\n",
    "\n",
    "fed_weights = fed_model.model.get_weights()\n",
    "\n",
    "#pool = concurrent.futures.ThreadPoolExecutor(max_workers=16)\n",
    "#pool = ThreadPool(1)\n",
    "\n",
    "position_accuracies = []\n",
    "time_accuracies = []\n",
    "\n",
    "\n",
    "for day in trange(55):\n",
    "    now = datetime.now()\n",
    "\n",
    "    current_time = now.strftime(\"%H:%M:%S\")\n",
    "    print(\"DAY%d\\tcurrent Time =\"%day, current_time)\n",
    "    selected_participants = np.random.choice(np.arange(0, len(filtered_vehicles)), NUM_VEHICLES, replace=False)\n",
    "    selected_vehicles = [filtered_vehicles[i] for i in selected_participants]\n",
    "    \n",
    "    params = []\n",
    "    for i in range(len(selected_vehicles)):\n",
    "        params.append([i, fed_weights, selected_vehicles[i], day, fed_model.model,\n",
    "                       oracle, parking_testset, test_t])\n",
    "    \n",
    "    weights = []\n",
    "    num_samps = []\n",
    "    p_acc, t_acc = [], []\n",
    "    with concurrent.futures.ThreadPoolExecutor(max_workers=16) as pool:\n",
    "        results = pool.map(train_participant, params)   \n",
    "        for r in results:\n",
    "            weights.append(r[0])\n",
    "            num_samps.append(r[1])\n",
    "            p_acc.append(r[2])\n",
    "            t_acc.append(r[3])\n",
    "    position_accuracies.append(p_acc)\n",
    "    time_accuracies.append(t_acc)\n",
    "    fed_weights = fed_avg(weights, num_samps)\n",
    "    fed_model.model.set_weights(fed_weights)\n",
    "    \n",
    "    "
   ]
  },
  {
   "cell_type": "code",
   "execution_count": 14,
   "id": "1aaa6100-20f6-4f6e-9ee9-92e60423e8a3",
   "metadata": {},
   "outputs": [],
   "source": [
    "save = {\n",
    "    \"position_accuracies\": position_accuracies,\n",
    "    \"time_accuracies\": time_accuracies\n",
    "}"
   ]
  },
  {
   "cell_type": "code",
   "execution_count": 15,
   "id": "e0847ff4-a8f9-4321-9603-98c04cfc97fa",
   "metadata": {},
   "outputs": [],
   "source": [
    "with open(\"../../02_data/fed_accuracies3.json\", \"w\") as f:\n",
    "    json.dump(save, f)"
   ]
  },
  {
   "cell_type": "code",
   "execution_count": 16,
   "id": "465cb138-e17a-4566-98f0-40f263421adb",
   "metadata": {},
   "outputs": [
    {
     "name": "stdout",
     "output_type": "stream",
     "text": [
      "INFO:tensorflow:Assets written to: ../../04_nn_models/fed_noshare3/assets\n"
     ]
    }
   ],
   "source": [
    "fed_model.model.save(\"../../04_nn_models/fed_noshare3\")"
   ]
  }
 ],
 "metadata": {
  "kernelspec": {
   "display_name": "tf_env",
   "language": "python",
   "name": "tf_env"
  },
  "language_info": {
   "codemirror_mode": {
    "name": "ipython",
    "version": 3
   },
   "file_extension": ".py",
   "mimetype": "text/x-python",
   "name": "python",
   "nbconvert_exporter": "python",
   "pygments_lexer": "ipython3",
   "version": "3.10.4"
  }
 },
 "nbformat": 4,
 "nbformat_minor": 5
}
