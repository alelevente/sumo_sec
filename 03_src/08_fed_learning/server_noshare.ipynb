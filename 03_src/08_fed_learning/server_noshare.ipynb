{
 "cells": [
  {
   "cell_type": "markdown",
   "id": "0fe45ad4-203b-40f1-a1eb-c10e10bea6d8",
   "metadata": {},
   "source": [
    "# **Federated learning server without local data sharing**"
   ]
  },
  {
   "cell_type": "code",
   "execution_count": 1,
   "id": "f3ac3c8f-7c3a-46a1-ae15-c8fc8ecbb899",
   "metadata": {},
   "outputs": [
    {
     "name": "stderr",
     "output_type": "stream",
     "text": [
      "2023-01-30 17:41:12.950609: I tensorflow/stream_executor/cuda/cuda_gpu_executor.cc:975] successful NUMA node read from SysFS had negative value (-1), but there must be at least one NUMA node, so returning NUMA node zero\n",
      "2023-01-30 17:41:12.953783: I tensorflow/stream_executor/cuda/cuda_gpu_executor.cc:975] successful NUMA node read from SysFS had negative value (-1), but there must be at least one NUMA node, so returning NUMA node zero\n",
      "2023-01-30 17:41:12.953917: I tensorflow/stream_executor/cuda/cuda_gpu_executor.cc:975] successful NUMA node read from SysFS had negative value (-1), but there must be at least one NUMA node, so returning NUMA node zero\n"
     ]
    }
   ],
   "source": [
    "import tensorflow as tf\n",
    "from tensorflow import keras\n",
    "\n",
    "import numpy as np\n",
    "import pandas as pd\n",
    "\n",
    "import json\n",
    "\n",
    "import sys\n",
    "sys.path.append(\"../\")\n",
    "import neural_network\n",
    "import utils\n",
    "\n",
    "import infer_tools\n",
    "import participant\n",
    "\n",
    "import concurrent.futures\n",
    "#from multiprocessing.pool import ThreadPool\n",
    "\n",
    "from tqdm.notebook import trange"
   ]
  },
  {
   "cell_type": "code",
   "execution_count": 2,
   "id": "31b365b6-b00d-41ef-a6f4-51e55147814e",
   "metadata": {},
   "outputs": [],
   "source": [
    "gpus = tf.config.experimental.list_physical_devices('GPU')\n",
    "if gpus:\n",
    "    try:\n",
    "        for gpu in gpus:\n",
    "            tf.config.experimental.set_memory_growth(gpu, True)\n",
    "\n",
    "    except RuntimeError as e:\n",
    "        print(e)"
   ]
  },
  {
   "cell_type": "markdown",
   "id": "8ab16981-695d-4536-8a8f-3559a566293d",
   "metadata": {},
   "source": [
    "## **Preparations**"
   ]
  },
  {
   "cell_type": "code",
   "execution_count": 3,
   "id": "72ebafa2-d19b-4822-8179-e8d9447a7d21",
   "metadata": {},
   "outputs": [],
   "source": [
    "with open(\"../../02_data/filtered_vehicles.json\", \"r\") as f:\n",
    "    filtered_vehicles = json.load(f)\n",
    "with open(\"../../dockeroutput/day_0/vehicle_maps.json\", \"r\") as f:\n",
    "    vehicle_maps = json.load(f)\n",
    "    veh_to_idx_map = vehicle_maps[\"vehicle_to_idx_map\"]\n",
    "    idx_to_veh_map = vehicle_maps[\"idx_to_vehicle_map\"]"
   ]
  },
  {
   "cell_type": "code",
   "execution_count": 4,
   "id": "5397fa88-079d-4461-bf06-56f3ee465bc7",
   "metadata": {},
   "outputs": [],
   "source": [
    "filtered_vehicles = filtered_vehicles[\"vehicles\"]"
   ]
  },
  {
   "cell_type": "code",
   "execution_count": 5,
   "id": "c4967c88-d6c3-425b-98d8-98cac23acc06",
   "metadata": {},
   "outputs": [],
   "source": [
    "settings = {\n",
    "    \"min\": 18220,\n",
    "    \"max\": 46800,\n",
    "    \"mean\": 0.59,\n",
    "    \"std\": 0.35302\n",
    "}\n",
    "\n",
    "PARKING_ID_LIST = [i for i in range(1059, 1186+1)]"
   ]
  },
  {
   "cell_type": "code",
   "execution_count": 6,
   "id": "adfad32e-39c8-497c-aedc-326ad131caf1",
   "metadata": {},
   "outputs": [],
   "source": [
    "test_t = np.arange(14460, 50400+1, 60)\n",
    "test_t = utils.normalize(test_t, settings[\"min\"], settings[\"max\"])"
   ]
  },
  {
   "cell_type": "code",
   "execution_count": 7,
   "id": "3c23e6ee-7e3b-40d0-b31b-1db23b2d4feb",
   "metadata": {},
   "outputs": [],
   "source": [
    "oracle = pd.read_csv(\"../../02_data/oracle.csv\")"
   ]
  },
  {
   "cell_type": "code",
   "execution_count": 8,
   "id": "5165fc5d-170d-4894-b0ec-e561aad889b8",
   "metadata": {},
   "outputs": [],
   "source": [
    "plist=[i for i in range(1059,1186+1)]\n",
    "plist.remove(1148)\n",
    "parking_testset = None\n",
    "for parking in plist:\n",
    "    id_encoding = utils.one_hot_encoder([parking]*len(test_t), PARKING_ID_LIST)\n",
    "    test_d = np.hstack([id_encoding, test_t.reshape(len(test_t), 1)])\n",
    "    if parking_testset is None:\n",
    "        parking_testset = test_d\n",
    "    else:\n",
    "        parking_testset = np.vstack([parking_testset, test_d])"
   ]
  },
  {
   "cell_type": "code",
   "execution_count": 9,
   "id": "3c2e9cde-fec9-48cb-b861-4c9b27604adc",
   "metadata": {},
   "outputs": [],
   "source": [
    "with open(\"../../02_data/known_parkings.json\", \"r\") as f:\n",
    "    known_parkings_by_vehicles = json.load(f)\n",
    "with open(\"../../02_data/known_moving_times.json\", \"r\") as f:\n",
    "    known_moving_times = json.load(f)"
   ]
  },
  {
   "cell_type": "markdown",
   "id": "d18920ef-d1d3-4135-b842-3c0d607eb52a",
   "metadata": {},
   "source": [
    "## **Learning**"
   ]
  },
  {
   "cell_type": "code",
   "execution_count": 10,
   "id": "5dbd872a-f8b3-46c5-abfb-24581cf56530",
   "metadata": {},
   "outputs": [],
   "source": [
    "NUM_VEHICLES = 50"
   ]
  },
  {
   "cell_type": "code",
   "execution_count": 11,
   "id": "2c8f8adf-cdd2-47e3-b72c-6972702116f9",
   "metadata": {},
   "outputs": [
    {
     "name": "stderr",
     "output_type": "stream",
     "text": [
      "2023-01-30 17:41:14.834949: I tensorflow/core/platform/cpu_feature_guard.cc:193] This TensorFlow binary is optimized with oneAPI Deep Neural Network Library (oneDNN) to use the following CPU instructions in performance-critical operations:  AVX2 FMA\n",
      "To enable them in other operations, rebuild TensorFlow with the appropriate compiler flags.\n",
      "2023-01-30 17:41:14.835469: I tensorflow/stream_executor/cuda/cuda_gpu_executor.cc:975] successful NUMA node read from SysFS had negative value (-1), but there must be at least one NUMA node, so returning NUMA node zero\n",
      "2023-01-30 17:41:14.835629: I tensorflow/stream_executor/cuda/cuda_gpu_executor.cc:975] successful NUMA node read from SysFS had negative value (-1), but there must be at least one NUMA node, so returning NUMA node zero\n",
      "2023-01-30 17:41:14.835736: I tensorflow/stream_executor/cuda/cuda_gpu_executor.cc:975] successful NUMA node read from SysFS had negative value (-1), but there must be at least one NUMA node, so returning NUMA node zero\n",
      "2023-01-30 17:41:15.123468: I tensorflow/stream_executor/cuda/cuda_gpu_executor.cc:975] successful NUMA node read from SysFS had negative value (-1), but there must be at least one NUMA node, so returning NUMA node zero\n",
      "2023-01-30 17:41:15.123615: I tensorflow/stream_executor/cuda/cuda_gpu_executor.cc:975] successful NUMA node read from SysFS had negative value (-1), but there must be at least one NUMA node, so returning NUMA node zero\n",
      "2023-01-30 17:41:15.123725: I tensorflow/stream_executor/cuda/cuda_gpu_executor.cc:975] successful NUMA node read from SysFS had negative value (-1), but there must be at least one NUMA node, so returning NUMA node zero\n",
      "2023-01-30 17:41:15.123822: I tensorflow/core/common_runtime/gpu/gpu_device.cc:1532] Created device /job:localhost/replica:0/task:0/device:GPU:0 with 10170 MB memory:  -> device: 0, name: NVIDIA GeForce RTX 3060, pci bus id: 0000:08:00.0, compute capability: 8.6\n"
     ]
    }
   ],
   "source": [
    "participants = [participant.FLParticipant() for i in range(NUM_VEHICLES)]"
   ]
  },
  {
   "cell_type": "code",
   "execution_count": 12,
   "id": "c1d8b3c9-87b2-4478-94d1-3589eea8d318",
   "metadata": {},
   "outputs": [],
   "source": [
    "def train_participant(parameters):\n",
    "    def _train(participant, weights, veh_num, day):\n",
    "        return participant.train(weights, veh_num, day, epochs=50)\n",
    "\n",
    "    def _eval(participant, veh_id, baseline_model):\n",
    "        true_parkings = known_parkings_by_vehicles[veh_id]\n",
    "        true_time = known_moving_times[veh_id]\n",
    "        return infer_tools.evaluate_performance(participant.nn.model, oracle, baseline_model, parking_testset,\n",
    "                                               test_t, settings, true_parkings, true_time)\n",
    "    \n",
    "    partip = participants[parameters[0]]\n",
    "    veh_num = veh_to_idx_map[parameters[2]]\n",
    "    baseline = parameters[4]\n",
    "    weights, samp_num = _train(partip, parameters[1], veh_num, parameters[3])\n",
    "    results = _eval(partip, parameters[2], baseline)\n",
    "    \n",
    "    return weights, samp_num, results[0], results[1]"
   ]
  },
  {
   "cell_type": "code",
   "execution_count": 13,
   "id": "4c2318f4-f932-4b51-bc8c-31a997764203",
   "metadata": {},
   "outputs": [],
   "source": [
    "def fed_avg(parameters, weights):\n",
    "        new_params = []\n",
    "        for layer_i in range(len(parameters[0])):\n",
    "            \n",
    "            new_params.append(\n",
    "                np.average([parameters[i][layer_i] for i in range(len(parameters))],\n",
    "                           weights=weights,\n",
    "                           axis=0\n",
    "                )\n",
    "            )\n",
    "        return new_params"
   ]
  },
  {
   "cell_type": "code",
   "execution_count": 14,
   "id": "fa9e9fc3-fd6c-448e-a8d6-dbe9dd0985a8",
   "metadata": {
    "tags": []
   },
   "outputs": [
    {
     "data": {
      "application/vnd.jupyter.widget-view+json": {
       "model_id": "4eb5536076af494b9c81ed142616c776",
       "version_major": 2,
       "version_minor": 0
      },
      "text/plain": [
       "  0%|          | 0/55 [00:00<?, ?it/s]"
      ]
     },
     "metadata": {},
     "output_type": "display_data"
    },
    {
     "name": "stderr",
     "output_type": "stream",
     "text": [
      "2023-01-30 17:41:41.312380: I tensorflow/stream_executor/cuda/cuda_blas.cc:1786] TensorFloat-32 will be used for the matrix multiplication. This will only be logged once.\n"
     ]
    },
    {
     "name": "stdout",
     "output_type": "stream",
     "text": [
      "WARNING:tensorflow:5 out of the last 5 calls to <function Model.make_predict_function.<locals>.predict_function at 0x7fc19030e830> triggered tf.function retracing. Tracing is expensive and the excessive number of tracings could be due to (1) creating @tf.function repeatedly in a loop, (2) passing tensors with different shapes, (3) passing Python objects instead of tensors. For (1), please define your @tf.function outside of the loop. For (2), @tf.function has reduce_retracing=True option that can avoid unnecessary retracing. For (3), please refer to https://www.tensorflow.org/guide/function#controlling_retracing and https://www.tensorflow.org/api_docs/python/tf/function for  more details.\n",
      "WARNING:tensorflow:6 out of the last 6 calls to <function Model.make_predict_function.<locals>.predict_function at 0x7fc198549630> triggered tf.function retracing. Tracing is expensive and the excessive number of tracings could be due to (1) creating @tf.function repeatedly in a loop, (2) passing tensors with different shapes, (3) passing Python objects instead of tensors. For (1), please define your @tf.function outside of the loop. For (2), @tf.function has reduce_retracing=True option that can avoid unnecessary retracing. For (3), please refer to https://www.tensorflow.org/guide/function#controlling_retracing and https://www.tensorflow.org/api_docs/python/tf/function for  more details.\n"
     ]
    }
   ],
   "source": [
    "fed_model = neural_network.NeuralNetwork()\n",
    "\n",
    "fed_weights = fed_model.model.get_weights()\n",
    "\n",
    "pool = concurrent.futures.ThreadPoolExecutor(max_workers=NUM_VEHICLES)\n",
    "#pool = ThreadPool(NUM_VEHICLES)\n",
    "\n",
    "position_accuracies = []\n",
    "time_accuracies = []\n",
    "\n",
    "\n",
    "for day in trange(55):\n",
    "    selected_participants = np.random.choice(np.arange(0, len(filtered_vehicles)), NUM_VEHICLES, replace=False)\n",
    "    selected_vehicles = [filtered_vehicles[i] for i in selected_participants]\n",
    "    \n",
    "    params = []\n",
    "    for i in range(len(selected_vehicles)):\n",
    "        params.append([i, fed_weights, selected_vehicles[i], day, fed_model.model])\n",
    "    \n",
    "    results = pool.map(train_participant, params)\n",
    "    weights = []\n",
    "    num_samps = []\n",
    "    p_acc, t_acc = [], []\n",
    "    for r in results:\n",
    "        weights.append(r[0])\n",
    "        num_samps.append(r[1])\n",
    "        p_acc.append(r[2])\n",
    "        t_acc.append(r[3])\n",
    "    position_accuracies.append(p_acc)\n",
    "    time_accuracies.append(t_acc)\n",
    "    fed_model.model.set_weights(fed_weights)\n",
    "    \n",
    "    fed_weights = fed_avg(weights, num_samps)"
   ]
  },
  {
   "cell_type": "code",
   "execution_count": 15,
   "id": "1aaa6100-20f6-4f6e-9ee9-92e60423e8a3",
   "metadata": {},
   "outputs": [],
   "source": [
    "save = {\n",
    "    \"position_accuracies\": position_accuracies,\n",
    "    \"time_accuracies\": time_accuracies\n",
    "}"
   ]
  },
  {
   "cell_type": "code",
   "execution_count": 16,
   "id": "bc54eb3c-e2ae-4aa0-830f-c381d9845dd1",
   "metadata": {},
   "outputs": [],
   "source": [
    "with open(\"../../02_data/fed_accuracies.json\", \"w\") as f:\n",
    "    json.dump(save, f)"
   ]
  },
  {
   "cell_type": "code",
   "execution_count": 17,
   "id": "74a14212-25f2-49bf-903d-928634c1eadc",
   "metadata": {},
   "outputs": [
    {
     "name": "stdout",
     "output_type": "stream",
     "text": [
      "INFO:tensorflow:Assets written to: ../../04_nn_models/fed_noshare/assets\n"
     ]
    }
   ],
   "source": [
    "fed_model.model.save(\"../../04_nn_models/fed_noshare\")"
   ]
  }
 ],
 "metadata": {
  "kernelspec": {
   "display_name": "tf_env",
   "language": "python",
   "name": "tf_env"
  },
  "language_info": {
   "codemirror_mode": {
    "name": "ipython",
    "version": 3
   },
   "file_extension": ".py",
   "mimetype": "text/x-python",
   "name": "python",
   "nbconvert_exporter": "python",
   "pygments_lexer": "ipython3",
   "version": "3.10.4"
  }
 },
 "nbformat": 4,
 "nbformat_minor": 5
}
