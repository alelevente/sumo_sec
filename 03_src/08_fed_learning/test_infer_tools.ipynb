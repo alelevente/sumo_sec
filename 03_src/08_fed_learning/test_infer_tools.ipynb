{
 "cells": [
  {
   "cell_type": "code",
   "execution_count": 39,
   "id": "1b56779f-fd74-40c0-aaca-4079c4ddfe4f",
   "metadata": {},
   "outputs": [],
   "source": [
    "import tensorflow as tf\n",
    "from tensorflow import keras\n",
    "\n",
    "import infer_tools\n",
    "\n",
    "from importlib import reload\n",
    "reload(infer_tools);\n",
    "\n",
    "import numpy as np\n",
    "import pandas as pd\n",
    "\n",
    "import sys\n",
    "sys.path.append(\"../\")\n",
    "import utils\n",
    "\n",
    "import json"
   ]
  },
  {
   "cell_type": "code",
   "execution_count": 7,
   "id": "2a977fcf-50ef-4646-a2f4-6d8f4b8c9b8b",
   "metadata": {},
   "outputs": [],
   "source": [
    "VEHICLE_ID = \"commercial_3-1_98\""
   ]
  },
  {
   "cell_type": "code",
   "execution_count": 9,
   "id": "48aa61c0-2548-45de-9a81-726bca21be33",
   "metadata": {},
   "outputs": [
    {
     "name": "stderr",
     "output_type": "stream",
     "text": [
      "2023-01-29 14:58:15.431095: I tensorflow/stream_executor/cuda/cuda_gpu_executor.cc:975] successful NUMA node read from SysFS had negative value (-1), but there must be at least one NUMA node, so returning NUMA node zero\n",
      "2023-01-29 14:58:15.434476: I tensorflow/stream_executor/cuda/cuda_gpu_executor.cc:975] successful NUMA node read from SysFS had negative value (-1), but there must be at least one NUMA node, so returning NUMA node zero\n",
      "2023-01-29 14:58:15.434609: I tensorflow/stream_executor/cuda/cuda_gpu_executor.cc:975] successful NUMA node read from SysFS had negative value (-1), but there must be at least one NUMA node, so returning NUMA node zero\n",
      "2023-01-29 14:58:15.435333: I tensorflow/core/platform/cpu_feature_guard.cc:193] This TensorFlow binary is optimized with oneAPI Deep Neural Network Library (oneDNN) to use the following CPU instructions in performance-critical operations:  AVX2 FMA\n",
      "To enable them in other operations, rebuild TensorFlow with the appropriate compiler flags.\n",
      "2023-01-29 14:58:15.435810: I tensorflow/stream_executor/cuda/cuda_gpu_executor.cc:975] successful NUMA node read from SysFS had negative value (-1), but there must be at least one NUMA node, so returning NUMA node zero\n",
      "2023-01-29 14:58:15.435931: I tensorflow/stream_executor/cuda/cuda_gpu_executor.cc:975] successful NUMA node read from SysFS had negative value (-1), but there must be at least one NUMA node, so returning NUMA node zero\n",
      "2023-01-29 14:58:15.436035: I tensorflow/stream_executor/cuda/cuda_gpu_executor.cc:975] successful NUMA node read from SysFS had negative value (-1), but there must be at least one NUMA node, so returning NUMA node zero\n",
      "2023-01-29 14:58:15.719654: I tensorflow/stream_executor/cuda/cuda_gpu_executor.cc:975] successful NUMA node read from SysFS had negative value (-1), but there must be at least one NUMA node, so returning NUMA node zero\n",
      "2023-01-29 14:58:15.719804: I tensorflow/stream_executor/cuda/cuda_gpu_executor.cc:975] successful NUMA node read from SysFS had negative value (-1), but there must be at least one NUMA node, so returning NUMA node zero\n",
      "2023-01-29 14:58:15.719913: I tensorflow/stream_executor/cuda/cuda_gpu_executor.cc:975] successful NUMA node read from SysFS had negative value (-1), but there must be at least one NUMA node, so returning NUMA node zero\n",
      "2023-01-29 14:58:15.720009: I tensorflow/core/common_runtime/gpu/gpu_device.cc:1532] Created device /job:localhost/replica:0/task:0/device:GPU:0 with 10170 MB memory:  -> device: 0, name: NVIDIA GeForce RTX 3060, pci bus id: 0000:08:00.0, compute capability: 8.6\n"
     ]
    }
   ],
   "source": [
    "model = keras.models.load_model(\"../../04_nn_models/ind_%s\"%VEHICLE_ID)"
   ]
  },
  {
   "cell_type": "code",
   "execution_count": 19,
   "id": "41db96b6-c947-4d04-92f3-75aba216f39b",
   "metadata": {},
   "outputs": [],
   "source": [
    "settings = {\n",
    "    \"min\": 18220,\n",
    "    \"max\": 46800,\n",
    "    \"mean\": 0.59,\n",
    "    \"std\": 0.35302\n",
    "}\n",
    "\n",
    "PARKING_ID_LIST = [i for i in range(1059, 1186+1)]"
   ]
  },
  {
   "cell_type": "code",
   "execution_count": 22,
   "id": "b8ba9c44-da4a-414f-9318-03851ef3d0ab",
   "metadata": {},
   "outputs": [],
   "source": [
    "test_t = np.arange(14460, 50400+1, 60)\n",
    "test_t = utils.normalize(test_t, settings[\"min\"], settings[\"max\"])"
   ]
  },
  {
   "cell_type": "code",
   "execution_count": 18,
   "id": "10dce380-9a83-4474-9ee5-2df091e5af0b",
   "metadata": {},
   "outputs": [],
   "source": [
    "oracle = pd.read_csv(\"../../02_data/oracle.csv\")"
   ]
  },
  {
   "cell_type": "code",
   "execution_count": 24,
   "id": "8d9cae80-ef98-427d-9e44-e3a92777a366",
   "metadata": {},
   "outputs": [],
   "source": [
    "plist=[i for i in range(1059,1186+1)]\n",
    "plist.remove(1148)\n",
    "parking_testset = None\n",
    "for parking in plist:\n",
    "    id_encoding = utils.one_hot_encoder([parking]*len(test_t), PARKING_ID_LIST)\n",
    "    test_d = np.hstack([id_encoding, test_t.reshape(len(test_t), 1)])\n",
    "    if parking_testset is None:\n",
    "        parking_testset = test_d\n",
    "    else:\n",
    "        parking_testset = np.vstack([parking_testset, test_d])"
   ]
  },
  {
   "cell_type": "code",
   "execution_count": 27,
   "id": "cac0417f-ff90-41c6-b039-d1553b517819",
   "metadata": {},
   "outputs": [],
   "source": [
    "with open(\"../../02_data/known_parkings.json\", \"r\") as f:\n",
    "    known_parkings_by_vehicles = json.load(f)\n",
    "with open(\"../../02_data/known_moving_times.json\", \"r\") as f:\n",
    "    known_moving_times = json.load(f)\n",
    "    \n",
    "true_parkings = known_parkings_by_vehicles[VEHICLE_ID]\n",
    "true_time = known_moving_times[VEHICLE_ID]"
   ]
  },
  {
   "cell_type": "code",
   "execution_count": 31,
   "id": "54c41b36-a535-4cdb-87b6-fd501d2c2dd8",
   "metadata": {},
   "outputs": [
    {
     "data": {
      "text/plain": [
       "[1087, 1111, 1123, 1139, 1140, 1145, 1147, 1178]"
      ]
     },
     "execution_count": 31,
     "metadata": {},
     "output_type": "execute_result"
    }
   ],
   "source": [
    "true_parkings"
   ]
  },
  {
   "cell_type": "code",
   "execution_count": 40,
   "id": "d6c3ab1c-bd4b-4378-b160-4d356f12b844",
   "metadata": {},
   "outputs": [
    {
     "data": {
      "text/plain": [
       "(1.0, 519.5)"
      ]
     },
     "execution_count": 40,
     "metadata": {},
     "output_type": "execute_result"
    }
   ],
   "source": [
    "infer_tools.evaluate_performance(model, oracle, parking_testset, test_t,\n",
    "                                 settings, true_parkings, true_time)"
   ]
  }
 ],
 "metadata": {
  "kernelspec": {
   "display_name": "tf_env",
   "language": "python",
   "name": "tf_env"
  },
  "language_info": {
   "codemirror_mode": {
    "name": "ipython",
    "version": 3
   },
   "file_extension": ".py",
   "mimetype": "text/x-python",
   "name": "python",
   "nbconvert_exporter": "python",
   "pygments_lexer": "ipython3",
   "version": "3.10.4"
  }
 },
 "nbformat": 4,
 "nbformat_minor": 5
}
