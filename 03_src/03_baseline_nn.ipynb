{
 "cells": [
  {
   "cell_type": "code",
   "execution_count": 1,
   "id": "ec7eacaf-e4af-4ec7-85ad-1b633506c073",
   "metadata": {},
   "outputs": [],
   "source": [
    "import numpy as np\n",
    "import pandas as pd\n",
    "\n",
    "import tensorflow as tf\n",
    "from tensorflow import keras\n",
    "\n",
    "import neural_network"
   ]
  },
  {
   "cell_type": "code",
   "execution_count": 2,
   "id": "ee97af75-bd6e-44b3-80fb-294370794199",
   "metadata": {},
   "outputs": [],
   "source": [
    "EPOCHS = 10"
   ]
  },
  {
   "cell_type": "code",
   "execution_count": 3,
   "id": "cc0fb096-d110-4b57-9748-cd559704811a",
   "metadata": {},
   "outputs": [],
   "source": [
    "OCCUPATION = \"../02_data/nn.csv\""
   ]
  },
  {
   "cell_type": "code",
   "execution_count": 4,
   "id": "df210031-691b-4403-a4df-8815e20ce71f",
   "metadata": {},
   "outputs": [],
   "source": [
    "data = pd.read_csv(OCCUPATION, header=None)"
   ]
  },
  {
   "cell_type": "code",
   "execution_count": 8,
   "id": "beef15cd-69ab-4965-b609-ad0c52a773ee",
   "metadata": {},
   "outputs": [
    {
     "name": "stderr",
     "output_type": "stream",
     "text": [
      "2023-01-22 19:20:35.215734: I tensorflow/core/platform/cpu_feature_guard.cc:193] This TensorFlow binary is optimized with oneAPI Deep Neural Network Library (oneDNN) to use the following CPU instructions in performance-critical operations:  AVX2 FMA\n",
      "To enable them in other operations, rebuild TensorFlow with the appropriate compiler flags.\n",
      "2023-01-22 19:20:36.296247: I tensorflow/core/common_runtime/gpu/gpu_device.cc:1532] Created device /job:localhost/replica:0/task:0/device:GPU:0 with 1621 MB memory:  -> device: 0, name: NVIDIA GeForce GTX 860M, pci bus id: 0000:01:00.0, compute capability: 5.0\n"
     ]
    }
   ],
   "source": [
    "nn = neural_network.NeuralNetwork()"
   ]
  },
  {
   "cell_type": "code",
   "execution_count": 13,
   "id": "bcf3f24b-5102-4844-a709-96bfc8c7136c",
   "metadata": {},
   "outputs": [],
   "source": [
    "data = np.array(data.sample(frac=1.0))\n",
    "#train_data = data[:int(len(data)*.7)]\n",
    "#test_data = data[int(len(data)*.7)+1:]"
   ]
  },
  {
   "cell_type": "code",
   "execution_count": 14,
   "id": "67c93e35-8194-4848-be24-93f74e2d5550",
   "metadata": {},
   "outputs": [
    {
     "name": "stderr",
     "output_type": "stream",
     "text": [
      "2023-01-22 19:22:12.626731: W tensorflow/core/framework/cpu_allocator_impl.cc:82] Allocation of 710062080 exceeds 10% of free system memory.\n",
      "2023-01-22 19:22:13.121014: W tensorflow/core/framework/cpu_allocator_impl.cc:82] Allocation of 710062080 exceeds 10% of free system memory.\n"
     ]
    },
    {
     "name": "stdout",
     "output_type": "stream",
     "text": [
      "Epoch 1/10\n",
      "1387/1387 [==============================] - 8s 5ms/step - loss: 0.1573 - val_loss: 0.0726\n",
      "Epoch 2/10\n",
      "1387/1387 [==============================] - 6s 5ms/step - loss: 0.0732 - val_loss: 0.0679\n",
      "Epoch 3/10\n",
      "1387/1387 [==============================] - 6s 5ms/step - loss: 0.0660 - val_loss: 0.0700\n",
      "Epoch 4/10\n",
      "1387/1387 [==============================] - 6s 5ms/step - loss: 0.0628 - val_loss: 0.0607\n",
      "Epoch 5/10\n",
      "1387/1387 [==============================] - 6s 5ms/step - loss: 0.0608 - val_loss: 0.0563\n",
      "Epoch 6/10\n",
      "1387/1387 [==============================] - 6s 5ms/step - loss: 0.0597 - val_loss: 0.0579\n",
      "Epoch 7/10\n",
      "1387/1387 [==============================] - 6s 5ms/step - loss: 0.0589 - val_loss: 0.0650\n",
      "Epoch 8/10\n",
      "1387/1387 [==============================] - 7s 5ms/step - loss: 0.0582 - val_loss: 0.0601\n",
      "Epoch 9/10\n",
      "1387/1387 [==============================] - 7s 5ms/step - loss: 0.0573 - val_loss: 0.0577\n",
      "Epoch 10/10\n",
      "1387/1387 [==============================] - 6s 5ms/step - loss: 0.0570 - val_loss: 0.0573\n"
     ]
    }
   ],
   "source": [
    "history = nn.model.fit(data[:,:-1], data[:,-1], batch_size=1000, epochs=EPOCHS, validation_split=.3)\n",
    "#eval_model = nn.model.evaluate(test_data[:,:-1], test_data[:,-1], batch_size=1000)"
   ]
  },
  {
   "cell_type": "code",
   "execution_count": 15,
   "id": "b79b2a6f-f783-49d4-801f-cf52dfc56757",
   "metadata": {},
   "outputs": [
    {
     "data": {
      "text/plain": [
       "{'loss': [0.15727250277996063,\n",
       "  0.07322260737419128,\n",
       "  0.06597868353128433,\n",
       "  0.06275423616170883,\n",
       "  0.06083603948354721,\n",
       "  0.05967250466346741,\n",
       "  0.05890494957566261,\n",
       "  0.058226801455020905,\n",
       "  0.057307783514261246,\n",
       "  0.05695771425962448],\n",
       " 'val_loss': [0.07256563752889633,\n",
       "  0.06792419403791428,\n",
       "  0.07001867145299911,\n",
       "  0.06068069860339165,\n",
       "  0.05632872134447098,\n",
       "  0.057888492941856384,\n",
       "  0.06504248827695847,\n",
       "  0.060146115720272064,\n",
       "  0.05767711251974106,\n",
       "  0.0573289580643177]}"
      ]
     },
     "execution_count": 15,
     "metadata": {},
     "output_type": "execute_result"
    }
   ],
   "source": [
    "history.history"
   ]
  },
  {
   "cell_type": "markdown",
   "id": "6ce42834-aed6-4d0e-9128-2bed9b5302ab",
   "metadata": {},
   "source": [
    "## **Testing**"
   ]
  },
  {
   "cell_type": "code",
   "execution_count": 17,
   "id": "1965900b-adaa-497b-b599-670e8b88ef3b",
   "metadata": {},
   "outputs": [],
   "source": [
    "RAW_OCCUPATION = \"../02_data/occupancies.csv\""
   ]
  },
  {
   "cell_type": "code",
   "execution_count": 18,
   "id": "9c7474d3-56e3-4d0b-ab38-5840063f9320",
   "metadata": {},
   "outputs": [],
   "source": [
    "raw_df = pd.read_csv(RAW_OCCUPATION)\n",
    "\n",
    "min_t = min(raw_df[\"timestamp\"])\n",
    "max_t = max(raw_df[\"timestamp\"])\n",
    "\n",
    "std = np.std(raw_df[\"counts\"])\n",
    "mean = np.mean(raw_df[\"counts\"])"
   ]
  },
  {
   "cell_type": "code",
   "execution_count": 30,
   "id": "e658c9cd-29ea-4ec9-9f2f-8fc0659e9e86",
   "metadata": {},
   "outputs": [],
   "source": [
    "def standardize(x, mean, std):\n",
    "    return (x-mean)/std\n",
    "\n",
    "def de_standardize(y, mean, std):\n",
    "    return y*std+mean\n",
    "\n",
    "def normalize(x, min_d, max_d):\n",
    "    return (x-min_d)/(max_d-min_d)"
   ]
  },
  {
   "cell_type": "code",
   "execution_count": 31,
   "id": "b6c9c8e0-7a45-4c45-8dfb-bf2e30323834",
   "metadata": {},
   "outputs": [
    {
     "data": {
      "text/plain": [
       "array([1059, 1060, 1061, 1062, 1063, 1064, 1065, 1066, 1067, 1068, 1069,\n",
       "       1070, 1071, 1072, 1073, 1074, 1075, 1076, 1077, 1078, 1079, 1080,\n",
       "       1081, 1082, 1083, 1084, 1085, 1086, 1087, 1088, 1089, 1090, 1091,\n",
       "       1092, 1093, 1094, 1095, 1096, 1097, 1098, 1099, 1100, 1101, 1102,\n",
       "       1103, 1104, 1105, 1106, 1107, 1108, 1109, 1110, 1111, 1112, 1113,\n",
       "       1114, 1115, 1116, 1117, 1118, 1119, 1120, 1121, 1122, 1123, 1124,\n",
       "       1125, 1126, 1127, 1128, 1129, 1130, 1131, 1132, 1133, 1134, 1135,\n",
       "       1136, 1137, 1138, 1139, 1140, 1141, 1142, 1143, 1144, 1145, 1146,\n",
       "       1147, 1149, 1150, 1151, 1152, 1153, 1154, 1155, 1156, 1157, 1158,\n",
       "       1159, 1160, 1161, 1162, 1163, 1164, 1165, 1166, 1167, 1168, 1169,\n",
       "       1170, 1171, 1172, 1173, 1174, 1175, 1176, 1177, 1178, 1179, 1180,\n",
       "       1181, 1182, 1183, 1184, 1185, 1186])"
      ]
     },
     "execution_count": 31,
     "metadata": {},
     "output_type": "execute_result"
    }
   ],
   "source": [
    "raw_df[\"ids\"].unique()"
   ]
  },
  {
   "cell_type": "code",
   "execution_count": 37,
   "id": "23fdf185-8f54-4519-935f-02485cbc643b",
   "metadata": {},
   "outputs": [],
   "source": [
    "PARKING_ID = 1115"
   ]
  },
  {
   "cell_type": "code",
   "execution_count": 38,
   "id": "c353ef0f-1c3d-473a-963e-24889ba0b937",
   "metadata": {},
   "outputs": [],
   "source": [
    "import matplotlib.pyplot as plt"
   ]
  },
  {
   "cell_type": "code",
   "execution_count": 39,
   "id": "4f82c818-16c2-4f49-83f2-b21abc0d1f32",
   "metadata": {},
   "outputs": [
    {
     "name": "stdout",
     "output_type": "stream",
     "text": [
      "19/19 [==============================] - 0s 2ms/step\n"
     ]
    }
   ],
   "source": [
    "id_list = list(raw_df.ids.unique())\n",
    "\n",
    "test_t = np.arange(14400, 50400, 60)\n",
    "test_t = normalize(test_t, min_t, max_t)\n",
    "\n",
    "id_encoding = np.zeros((len(test_t), len(id_list)))\n",
    "for i in range(len(test_t)):\n",
    "    id_encoding[i, id_list.index(PARKING_ID)] = 1.0\n",
    "\n",
    "output = nn.model.predict(np.hstack([id_encoding, test_t.reshape(len(test_t), 1)]))\n",
    "output = de_standardize(output, mean, std)"
   ]
  },
  {
   "cell_type": "code",
   "execution_count": 43,
   "id": "5804c1c6-7f25-4c23-8ad8-bd5e94f6f9ca",
   "metadata": {},
   "outputs": [
    {
     "data": {
      "image/png": "[encoded data removed]",
      "text/plain": [
       "<Figure size 640x480 with 1 Axes>"
      ]
     },
     "metadata": {},
     "output_type": "display_data"
    }
   ],
   "source": [
    "p_lot = raw_df[raw_df[\"ids\"] == PARKING_ID]\n",
    "p_lot_occup = p_lot.groupby(\"timestamp\")[\"counts\"].mean()\n",
    "plt.plot(p_lot_occup.index/(60*60), p_lot_occup, label=\"measured\")\n",
    "plt.plot(p_lot_occup.index/(60*60), output, \"--\", label=\"estimated\")\n",
    "plt.xlabel(\"time [h]\")\n",
    "plt.ylabel(\"occupied [vehicles]\")\n",
    "plt.legend()\n",
    "plt.title(PARKING_ID)\n",
    "plt.show()"
   ]
  },
  {
   "cell_type": "code",
   "execution_count": null,
   "id": "d44cef6a-3134-4874-aa5f-61aecb97137e",
   "metadata": {},
   "outputs": [],
   "source": []
  }
 ],
 "metadata": {
  "kernelspec": {
   "display_name": "tf_env",
   "language": "python",
   "name": "tf_env"
  },
  "language_info": {
   "codemirror_mode": {
    "name": "ipython",
    "version": 3
   },
   "file_extension": ".py",
   "mimetype": "text/x-python",
   "name": "python",
   "nbconvert_exporter": "python",
   "pygments_lexer": "ipython3",
   "version": "3.10.4"
  }
 },
 "nbformat": 4,
 "nbformat_minor": 5
}
