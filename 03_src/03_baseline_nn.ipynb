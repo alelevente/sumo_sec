{
 "cells": [
  {
   "cell_type": "code",
   "execution_count": 1,
   "id": "ec7eacaf-e4af-4ec7-85ad-1b633506c073",
   "metadata": {},
   "outputs": [],
   "source": [
    "import numpy as np\n",
    "import pandas as pd\n",
    "\n",
    "import tensorflow as tf\n",
    "from tensorflow import keras\n",
    "\n",
    "import neural_network"
   ]
  },
  {
   "cell_type": "code",
   "execution_count": 2,
   "id": "cc0fb096-d110-4b57-9748-cd559704811a",
   "metadata": {},
   "outputs": [],
   "source": [
    "OCCUPATION = \"../02_data/nn.csv\""
   ]
  },
  {
   "cell_type": "code",
   "execution_count": 3,
   "id": "2ed406a3-8ad7-4825-aee0-98beec8dd2f4",
   "metadata": {},
   "outputs": [],
   "source": [
    "data = pd.read_csv(OCCUPATION)"
   ]
  },
  {
   "cell_type": "code",
   "execution_count": 4,
   "id": "beef15cd-69ab-4965-b609-ad0c52a773ee",
   "metadata": {},
   "outputs": [
    {
     "name": "stderr",
     "output_type": "stream",
     "text": [
      "2023-01-20 16:01:38.460294: I tensorflow/core/platform/cpu_feature_guard.cc:193] This TensorFlow binary is optimized with oneAPI Deep Neural Network Library (oneDNN) to use the following CPU instructions in performance-critical operations:  AVX2 FMA\n",
      "To enable them in other operations, rebuild TensorFlow with the appropriate compiler flags.\n",
      "2023-01-20 16:01:38.835848: I tensorflow/core/common_runtime/gpu/gpu_device.cc:1532] Created device /job:localhost/replica:0/task:0/device:GPU:0 with 1621 MB memory:  -> device: 0, name: NVIDIA GeForce GTX 860M, pci bus id: 0000:01:00.0, compute capability: 5.0\n"
     ]
    }
   ],
   "source": [
    "nn = neural_network.NeuralNetwork()"
   ]
  },
  {
   "cell_type": "code",
   "execution_count": 5,
   "id": "bcf3f24b-5102-4844-a709-96bfc8c7136c",
   "metadata": {},
   "outputs": [],
   "source": [
    "data = data.sample(frac=1.0)\n",
    "train_data = data[:int(len(data)*.7)]\n",
    "test_data = data[int(len(data)*.7)+1:]"
   ]
  },
  {
   "cell_type": "code",
   "execution_count": 6,
   "id": "acec3a4f-4996-4089-9946-3170269ce816",
   "metadata": {},
   "outputs": [],
   "source": [
    "train_data = np.array(train_data)\n",
    "test_data = np.array(test_data)"
   ]
  },
  {
   "cell_type": "code",
   "execution_count": 7,
   "id": "da60aa94-0b76-4417-b7c9-1ed090a06c55",
   "metadata": {},
   "outputs": [
    {
     "data": {
      "text/plain": [
       "(1386839, 128)"
      ]
     },
     "execution_count": 7,
     "metadata": {},
     "output_type": "execute_result"
    }
   ],
   "source": [
    "train_data[:,:-1].shape"
   ]
  },
  {
   "cell_type": "code",
   "execution_count": 8,
   "id": "a0014703-629e-45fc-9d9b-1323df299ad9",
   "metadata": {},
   "outputs": [
    {
     "data": {
      "text/plain": [
       "(1386839, 129)"
      ]
     },
     "execution_count": 8,
     "metadata": {},
     "output_type": "execute_result"
    }
   ],
   "source": [
    "train_data.shape"
   ]
  },
  {
   "cell_type": "code",
   "execution_count": 9,
   "id": "67c93e35-8194-4848-be24-93f74e2d5550",
   "metadata": {},
   "outputs": [
    {
     "name": "stderr",
     "output_type": "stream",
     "text": [
      "2023-01-20 16:01:43.796495: W tensorflow/core/framework/cpu_allocator_impl.cc:82] Allocation of 710061568 exceeds 10% of free system memory.\n",
      "2023-01-20 16:01:44.330076: W tensorflow/core/framework/cpu_allocator_impl.cc:82] Allocation of 710061568 exceeds 10% of free system memory.\n"
     ]
    },
    {
     "name": "stdout",
     "output_type": "stream",
     "text": [
      "Epoch 1/10\n",
      "43339/43339 [==============================] - 123s 3ms/step - loss: 0.0868\n",
      "Epoch 2/10\n",
      "43339/43339 [==============================] - 122s 3ms/step - loss: 0.0650\n",
      "Epoch 3/10\n",
      "43339/43339 [==============================] - 123s 3ms/step - loss: 0.0613\n",
      "Epoch 4/10\n",
      "43339/43339 [==============================] - 122s 3ms/step - loss: 0.0595\n",
      "Epoch 5/10\n",
      "43339/43339 [==============================] - 122s 3ms/step - loss: 0.0582\n",
      "Epoch 6/10\n",
      "43339/43339 [==============================] - 125s 3ms/step - loss: 0.0572\n",
      "Epoch 7/10\n",
      "43339/43339 [==============================] - 126s 3ms/step - loss: 0.0566\n",
      "Epoch 8/10\n",
      "43339/43339 [==============================] - 125s 3ms/step - loss: 0.0561\n",
      "Epoch 9/10\n",
      "43339/43339 [==============================] - 143s 3ms/step - loss: 0.0556\n",
      "Epoch 10/10\n",
      "43339/43339 [==============================] - 142s 3ms/step - loss: 0.0554\n"
     ]
    },
    {
     "data": {
      "text/plain": [
       "<keras.callbacks.History at 0x7f37bf4895d0>"
      ]
     },
     "execution_count": 9,
     "metadata": {},
     "output_type": "execute_result"
    }
   ],
   "source": [
    "nn.model.fit(train_data[:,:-1], train_data[:,-1], epochs=10)"
   ]
  },
  {
   "cell_type": "code",
   "execution_count": null,
   "id": "b79b2a6f-f783-49d4-801f-cf52dfc56757",
   "metadata": {},
   "outputs": [],
   "source": []
  }
 ],
 "metadata": {
  "kernelspec": {
   "display_name": "tf_env",
   "language": "python",
   "name": "tf_env"
  },
  "language_info": {
   "codemirror_mode": {
    "name": "ipython",
    "version": 3
   },
   "file_extension": ".py",
   "mimetype": "text/x-python",
   "name": "python",
   "nbconvert_exporter": "python",
   "pygments_lexer": "ipython3",
   "version": "3.10.4"
  }
 },
 "nbformat": 4,
 "nbformat_minor": 5
}
