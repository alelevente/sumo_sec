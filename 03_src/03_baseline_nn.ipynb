{
 "cells": [
  {
   "cell_type": "markdown",
   "id": "738a4b50-5655-4a95-8b25-01642979c463",
   "metadata": {},
   "source": [
    "# **Baseline measurements**\n",
    "\n",
    "Measurements with all the available occupation data:\n",
    "- No federated learning\n",
    "- 55 days available for learning\n",
    "- 5 days for testing"
   ]
  },
  {
   "cell_type": "code",
   "execution_count": 1,
   "id": "ee97af75-bd6e-44b3-80fb-294370794199",
   "metadata": {},
   "outputs": [],
   "source": [
    "EPOCHS = 100\n",
    "TRAIN = range(0, 55)\n",
    "TEST = range(55, 60)"
   ]
  },
  {
   "cell_type": "code",
   "execution_count": 2,
   "id": "ec7eacaf-e4af-4ec7-85ad-1b633506c073",
   "metadata": {},
   "outputs": [],
   "source": [
    "import numpy as np\n",
    "import pandas as pd\n",
    "\n",
    "import tensorflow as tf\n",
    "from tensorflow import keras\n",
    "\n",
    "import neural_network\n",
    "import utils\n",
    "\n",
    "from importlib import reload\n",
    "reload(neural_network);"
   ]
  },
  {
   "cell_type": "markdown",
   "id": "0894f102-4ee1-4ebf-9224-6648d57b05dc",
   "metadata": {
    "jp-MarkdownHeadingCollapsed": true,
    "tags": []
   },
   "source": [
    "## **Data preparation**"
   ]
  },
  {
   "cell_type": "code",
   "execution_count": 14,
   "id": "f971b31d-f43e-428c-b12a-d439ed67d94a",
   "metadata": {},
   "outputs": [],
   "source": [
    "MEAS_ROOT = \"../dockeroutput/\""
   ]
  },
  {
   "cell_type": "code",
   "execution_count": 15,
   "id": "18967564-7205-4558-b91f-7b3f33171152",
   "metadata": {},
   "outputs": [],
   "source": [
    "#reading capacity data:\n",
    "MOST_PATH = \"../build_inputs//MoSTScenario/scenario/most.sumocfg\"\n",
    "PARKING_AREA_DEFINITIONS = \"../build_inputs/MoSTScenario/scenario/in/add/most.parking.add.xml\"\n",
    "\n",
    "parking_df = pd.read_xml(PARKING_AREA_DEFINITIONS)\n",
    "parking_df = parking_df[parking_df[\"roadsideCapacity\"]>0]\n",
    "parking_df = parking_df.set_index([\"id\"])"
   ]
  },
  {
   "cell_type": "code",
   "execution_count": 16,
   "id": "40dd0cb9-686b-478d-a8e1-4a0c2bf1011a",
   "metadata": {},
   "outputs": [],
   "source": [
    "#constants for normalizing/standardizing:\n",
    "nominals = pd.read_csv(MEAS_ROOT+\"day_0/occupancies.csv\")\n",
    "perc_ = []\n",
    "for i,r in nominals.iterrows():\n",
    "    perc_.append(r.counts/parking_df.loc[r.ids][\"roadsideCapacity\"])\n",
    "nominals[\"percentage\"] = perc_"
   ]
  },
  {
   "cell_type": "code",
   "execution_count": 17,
   "id": "27902b9c-6b6b-499c-9dd8-4c12dfb3d09b",
   "metadata": {},
   "outputs": [],
   "source": [
    "MEAN = np.mean(nominals[\"percentage\"])\n",
    "STD = np.std(nominals[\"percentage\"])\n",
    "MIN_T = 14400\n",
    "MAX_T = 50460\n",
    "\n",
    "PARKING_ID_LIST = [i for i in range(1059, 1186+1)]"
   ]
  },
  {
   "cell_type": "code",
   "execution_count": 35,
   "id": "6944baa6-ef0e-41c5-bbe1-4f48b0654e69",
   "metadata": {},
   "outputs": [],
   "source": [
    "def collect_data(day_range):\n",
    "    collected_data = None\n",
    "    for day in day_range:\n",
    "        meas_path = MEAS_ROOT + \"day_%d/\"%day\n",
    "        df_ = pd.read_csv(meas_path+\"occupancies.csv\")\n",
    "        perc_ = []\n",
    "        for i,r in df_.iterrows():\n",
    "            perc_.append(r.counts/parking_df.loc[r.ids][\"roadsideCapacity\"])\n",
    "        df_[\"percentage\"] = perc_\n",
    "\n",
    "        #one-hot-encoding:\n",
    "        ohe = utils.one_hot_encoder(df_[\"ids\"], PARKING_ID_LIST)\n",
    "        #standardizing percentage values:\n",
    "        percentages = np.array(df_[\"percentage\"]).reshape(len(df_), 1)\n",
    "        percentages = utils.standardize(percentages, MEAN, STD)\n",
    "        #normalizing time values:\n",
    "        times = np.array(df_[\"timestamp\"]).reshape(len(df_), 1)\n",
    "        times = utils.normalize(times, MIN_T, MAX_T)\n",
    "\n",
    "        new_data = np.hstack([ohe, times, percentages])\n",
    "        if collected_data is None:\n",
    "            collected_data = new_data\n",
    "        else:\n",
    "            collected_data = np.vstack([collected_data, new_data])\n",
    "    return collected_data"
   ]
  },
  {
   "cell_type": "code",
   "execution_count": 36,
   "id": "9a97fd15-1950-43a3-82a1-f273f578da37",
   "metadata": {},
   "outputs": [],
   "source": [
    "train_data = pd.DataFrame(collect_data(TRAIN))\n",
    "train_data.to_csv(\"../02_data/nn_baseline_train.csv\", header=False, index=False)"
   ]
  },
  {
   "cell_type": "code",
   "execution_count": 38,
   "id": "1fe0ff19-2da0-4c2d-b310-3b537d0c3b9b",
   "metadata": {},
   "outputs": [],
   "source": [
    "test_data = collect_data(TEST)"
   ]
  },
  {
   "cell_type": "code",
   "execution_count": 39,
   "id": "cf9478c7-6111-42ec-89ab-37a57eb1a5c2",
   "metadata": {},
   "outputs": [],
   "source": [
    "test_data = pd.DataFrame(test_data)\n",
    "test_data.to_csv(\"../02_data/nn_baseline_test.csv\", header=False, index=False)"
   ]
  },
  {
   "cell_type": "markdown",
   "id": "7b6fce41-7083-4eea-bbef-66567af5b4d0",
   "metadata": {},
   "source": [
    "## **Learning**"
   ]
  },
  {
   "cell_type": "code",
   "execution_count": 3,
   "id": "0ff4d49f-6303-4fd6-8c03-9aa213024229",
   "metadata": {},
   "outputs": [],
   "source": [
    "train_data = pd.read_csv(\"../02_data/nn_baseline_train.csv\", header=None)"
   ]
  },
  {
   "cell_type": "code",
   "execution_count": 4,
   "id": "beef15cd-69ab-4965-b609-ad0c52a773ee",
   "metadata": {},
   "outputs": [
    {
     "name": "stderr",
     "output_type": "stream",
     "text": [
      "2023-01-26 09:09:28.281852: I tensorflow/stream_executor/cuda/cuda_gpu_executor.cc:975] successful NUMA node read from SysFS had negative value (-1), but there must be at least one NUMA node, so returning NUMA node zero\n",
      "2023-01-26 09:09:28.284986: I tensorflow/stream_executor/cuda/cuda_gpu_executor.cc:975] successful NUMA node read from SysFS had negative value (-1), but there must be at least one NUMA node, so returning NUMA node zero\n",
      "2023-01-26 09:09:28.285116: I tensorflow/stream_executor/cuda/cuda_gpu_executor.cc:975] successful NUMA node read from SysFS had negative value (-1), but there must be at least one NUMA node, so returning NUMA node zero\n",
      "2023-01-26 09:09:28.285597: I tensorflow/core/platform/cpu_feature_guard.cc:193] This TensorFlow binary is optimized with oneAPI Deep Neural Network Library (oneDNN) to use the following CPU instructions in performance-critical operations:  AVX2 FMA\n",
      "To enable them in other operations, rebuild TensorFlow with the appropriate compiler flags.\n",
      "2023-01-26 09:09:28.286019: I tensorflow/stream_executor/cuda/cuda_gpu_executor.cc:975] successful NUMA node read from SysFS had negative value (-1), but there must be at least one NUMA node, so returning NUMA node zero\n",
      "2023-01-26 09:09:28.286139: I tensorflow/stream_executor/cuda/cuda_gpu_executor.cc:975] successful NUMA node read from SysFS had negative value (-1), but there must be at least one NUMA node, so returning NUMA node zero\n",
      "2023-01-26 09:09:28.286245: I tensorflow/stream_executor/cuda/cuda_gpu_executor.cc:975] successful NUMA node read from SysFS had negative value (-1), but there must be at least one NUMA node, so returning NUMA node zero\n",
      "2023-01-26 09:09:28.522759: I tensorflow/stream_executor/cuda/cuda_gpu_executor.cc:975] successful NUMA node read from SysFS had negative value (-1), but there must be at least one NUMA node, so returning NUMA node zero\n",
      "2023-01-26 09:09:28.522913: I tensorflow/stream_executor/cuda/cuda_gpu_executor.cc:975] successful NUMA node read from SysFS had negative value (-1), but there must be at least one NUMA node, so returning NUMA node zero\n",
      "2023-01-26 09:09:28.523028: I tensorflow/stream_executor/cuda/cuda_gpu_executor.cc:975] successful NUMA node read from SysFS had negative value (-1), but there must be at least one NUMA node, so returning NUMA node zero\n",
      "2023-01-26 09:09:28.523125: I tensorflow/core/common_runtime/gpu/gpu_device.cc:1532] Created device /job:localhost/replica:0/task:0/device:GPU:0 with 10174 MB memory:  -> device: 0, name: NVIDIA GeForce RTX 3060, pci bus id: 0000:08:00.0, compute capability: 8.6\n"
     ]
    }
   ],
   "source": [
    "nn = neural_network.NeuralNetwork()"
   ]
  },
  {
   "cell_type": "code",
   "execution_count": 5,
   "id": "bcf3f24b-5102-4844-a709-96bfc8c7136c",
   "metadata": {},
   "outputs": [],
   "source": [
    "train_data = np.array(train_data.sample(frac=0.33))\n",
    "#train_data = data[:int(len(data)*.7)]\n",
    "#test_data = data[int(len(data)*.7)+1:]"
   ]
  },
  {
   "cell_type": "code",
   "execution_count": 6,
   "id": "67c93e35-8194-4848-be24-93f74e2d5550",
   "metadata": {},
   "outputs": [
    {
     "name": "stderr",
     "output_type": "stream",
     "text": [
      "2023-01-26 09:09:32.185442: W tensorflow/core/framework/cpu_allocator_impl.cc:82] Allocation of 999100356 exceeds 10% of free system memory.\n",
      "2023-01-26 09:09:32.502898: W tensorflow/core/framework/cpu_allocator_impl.cc:82] Allocation of 999100356 exceeds 10% of free system memory.\n"
     ]
    },
    {
     "name": "stdout",
     "output_type": "stream",
     "text": [
      "Epoch 1/100\n",
      "  76/1937 [>.............................] - ETA: 3s - loss: 0.4719 "
     ]
    },
    {
     "name": "stderr",
     "output_type": "stream",
     "text": [
      "2023-01-26 09:09:33.451967: I tensorflow/stream_executor/cuda/cuda_blas.cc:1786] TensorFloat-32 will be used for the matrix multiplication. This will only be logged once.\n"
     ]
    },
    {
     "name": "stdout",
     "output_type": "stream",
     "text": [
      "1937/1937 [==============================] - 5s 2ms/step - loss: 0.0589 - val_loss: 0.0091\n",
      "Epoch 2/100\n",
      "1937/1937 [==============================] - 5s 2ms/step - loss: 0.0089 - val_loss: 0.0062\n",
      "Epoch 3/100\n",
      "1937/1937 [==============================] - 5s 2ms/step - loss: 0.0059 - val_loss: 0.0057\n",
      "Epoch 4/100\n",
      "1937/1937 [==============================] - 5s 2ms/step - loss: 0.0047 - val_loss: 0.0046\n",
      "Epoch 5/100\n",
      "1937/1937 [==============================] - 5s 2ms/step - loss: 0.0041 - val_loss: 0.0018\n",
      "Epoch 6/100\n",
      "1937/1937 [==============================] - 4s 2ms/step - loss: 0.0036 - val_loss: 0.0026\n",
      "Epoch 7/100\n",
      "1937/1937 [==============================] - 5s 2ms/step - loss: 0.0033 - val_loss: 0.0060\n",
      "Epoch 8/100\n",
      "1937/1937 [==============================] - 5s 2ms/step - loss: 0.0031 - val_loss: 0.0029\n",
      "Epoch 9/100\n",
      "1937/1937 [==============================] - 5s 2ms/step - loss: 0.0029 - val_loss: 0.0024\n",
      "Epoch 10/100\n",
      "1937/1937 [==============================] - 4s 2ms/step - loss: 0.0027 - val_loss: 0.0025\n",
      "Epoch 11/100\n",
      "1937/1937 [==============================] - 5s 2ms/step - loss: 0.0026 - val_loss: 0.0037\n",
      "Epoch 12/100\n",
      "1937/1937 [==============================] - 5s 2ms/step - loss: 0.0025 - val_loss: 0.0017\n",
      "Epoch 13/100\n",
      "1937/1937 [==============================] - 5s 2ms/step - loss: 0.0024 - val_loss: 0.0019\n",
      "Epoch 14/100\n",
      "1937/1937 [==============================] - 5s 2ms/step - loss: 0.0023 - val_loss: 0.0027\n",
      "Epoch 15/100\n",
      "1937/1937 [==============================] - 5s 2ms/step - loss: 0.0022 - val_loss: 0.0015\n",
      "Epoch 16/100\n",
      "1937/1937 [==============================] - 5s 2ms/step - loss: 0.0022 - val_loss: 0.0020\n",
      "Epoch 17/100\n",
      "1937/1937 [==============================] - 5s 2ms/step - loss: 0.0021 - val_loss: 0.0018\n",
      "Epoch 18/100\n",
      "1937/1937 [==============================] - 5s 2ms/step - loss: 0.0020 - val_loss: 0.0017\n",
      "Epoch 19/100\n",
      "1937/1937 [==============================] - 5s 2ms/step - loss: 0.0020 - val_loss: 0.0032\n",
      "Epoch 20/100\n",
      "1937/1937 [==============================] - 4s 2ms/step - loss: 0.0019 - val_loss: 0.0032\n",
      "Epoch 21/100\n",
      "1937/1937 [==============================] - 5s 2ms/step - loss: 0.0019 - val_loss: 0.0017\n",
      "Epoch 22/100\n",
      "1937/1937 [==============================] - 4s 2ms/step - loss: 0.0019 - val_loss: 0.0016\n",
      "Epoch 23/100\n",
      "1937/1937 [==============================] - 5s 2ms/step - loss: 0.0018 - val_loss: 0.0029\n",
      "Epoch 24/100\n",
      "1937/1937 [==============================] - 5s 2ms/step - loss: 0.0018 - val_loss: 0.0012\n",
      "Epoch 25/100\n",
      "1937/1937 [==============================] - 5s 2ms/step - loss: 0.0018 - val_loss: 0.0016\n"
     ]
    }
   ],
   "source": [
    "callback = tf.keras.callbacks.EarlyStopping(monitor='loss', min_delta=0.0001, patience=3)\n",
    "history = nn.model.fit(train_data[:,:-1],\n",
    "                       train_data[:,-1], batch_size=1000, epochs=EPOCHS, validation_split=.3,\n",
    "                       callbacks=[callback])\n",
    "#eval_model = nn.model.evaluate(test_data[:,:-1], test_data[:,-1], batch_size=1000)"
   ]
  },
  {
   "cell_type": "code",
   "execution_count": 7,
   "id": "b79b2a6f-f783-49d4-801f-cf52dfc56757",
   "metadata": {},
   "outputs": [
    {
     "data": {
      "text/plain": [
       "{'loss': [0.05894387140870094,\n",
       "  0.008882240392267704,\n",
       "  0.005869729444384575,\n",
       "  0.004722069948911667,\n",
       "  0.004051002208143473,\n",
       "  0.0035931828897446394,\n",
       "  0.0033207572996616364,\n",
       "  0.003065899247303605,\n",
       "  0.0028713445644825697,\n",
       "  0.0027170125395059586,\n",
       "  0.0025872294791042805,\n",
       "  0.002486810553818941,\n",
       "  0.0023848318960517645,\n",
       "  0.002306973561644554,\n",
       "  0.0022330647334456444,\n",
       "  0.002151515567675233,\n",
       "  0.002095251576974988,\n",
       "  0.0020462418906390667,\n",
       "  0.0019852854311466217,\n",
       "  0.0019409805536270142,\n",
       "  0.0019077915931120515,\n",
       "  0.00186981912702322,\n",
       "  0.0018236851319670677,\n",
       "  0.0017901082755997777,\n",
       "  0.001779693877324462],\n",
       " 'val_loss': [0.009145076386630535,\n",
       "  0.006177823059260845,\n",
       "  0.005746179260313511,\n",
       "  0.004628211259841919,\n",
       "  0.0018400419503450394,\n",
       "  0.002551213139668107,\n",
       "  0.006010165438055992,\n",
       "  0.002858767518773675,\n",
       "  0.0024185720831155777,\n",
       "  0.002478877315297723,\n",
       "  0.0037036961875855923,\n",
       "  0.0017264917260035872,\n",
       "  0.0019312099320814013,\n",
       "  0.0026994424406439066,\n",
       "  0.001501162420026958,\n",
       "  0.0020039270166307688,\n",
       "  0.001806359738111496,\n",
       "  0.0016574368346482515,\n",
       "  0.0031648660078644753,\n",
       "  0.003166397800669074,\n",
       "  0.0016547056147828698,\n",
       "  0.0016315169632434845,\n",
       "  0.002878389088436961,\n",
       "  0.0012032383820042014,\n",
       "  0.001568760140798986]}"
      ]
     },
     "execution_count": 7,
     "metadata": {},
     "output_type": "execute_result"
    }
   ],
   "source": [
    "history.history"
   ]
  },
  {
   "cell_type": "markdown",
   "id": "c97e332a-3d7d-433e-879f-20b85f898a9d",
   "metadata": {},
   "source": [
    "### Saving the model"
   ]
  },
  {
   "cell_type": "code",
   "execution_count": 42,
   "id": "e8c88eae-7299-43b9-91b2-6e7ca3ce9efa",
   "metadata": {},
   "outputs": [
    {
     "name": "stdout",
     "output_type": "stream",
     "text": [
      "INFO:tensorflow:Assets written to: ../04_nn_models/baseline/assets\n"
     ]
    }
   ],
   "source": [
    "nn.model.save(\"../04_nn_models/baseline\")"
   ]
  },
  {
   "cell_type": "markdown",
   "id": "6ce42834-aed6-4d0e-9128-2bed9b5302ab",
   "metadata": {},
   "source": [
    "## **Testing**"
   ]
  },
  {
   "cell_type": "code",
   "execution_count": 8,
   "id": "c99928c9-c08e-4882-ac6b-9a36b4df161e",
   "metadata": {},
   "outputs": [],
   "source": [
    "import matplotlib.pyplot as plt"
   ]
  },
  {
   "cell_type": "code",
   "execution_count": 12,
   "id": "ad8490a3-7a03-4c42-9d9b-396fad196b56",
   "metadata": {},
   "outputs": [
    {
     "data": {
      "text/plain": [
       "Text(0.5, 1.0, 'Learning curves')"
      ]
     },
     "execution_count": 12,
     "metadata": {},
     "output_type": "execute_result"
    },
    {
     "data": {
      "image/png": "[encoded data removed]",
      "text/plain": [
       "<Figure size 640x480 with 1 Axes>"
      ]
     },
     "metadata": {},
     "output_type": "display_data"
    }
   ],
   "source": [
    "plt.plot(history.history[\"loss\"], label=\"train loss\")\n",
    "plt.plot(history.history[\"val_loss\"], label=\"val. loss\")\n",
    "plt.xlabel(\"epochs\")\n",
    "plt.ylabel(\"MSE\")\n",
    "plt.legend()\n",
    "plt.title(\"Learning curves\")"
   ]
  },
  {
   "cell_type": "markdown",
   "id": "24f4806c-3aca-4601-a033-86be2ee89f71",
   "metadata": {},
   "source": [
    "### **Testing with a specific parking lot**"
   ]
  },
  {
   "cell_type": "code",
   "execution_count": 33,
   "id": "23fdf185-8f54-4519-935f-02485cbc643b",
   "metadata": {},
   "outputs": [],
   "source": [
    "PARKING_ID = 1101"
   ]
  },
  {
   "cell_type": "code",
   "execution_count": 34,
   "id": "4f82c818-16c2-4f49-83f2-b21abc0d1f32",
   "metadata": {},
   "outputs": [
    {
     "name": "stdout",
     "output_type": "stream",
     "text": [
      "19/19 [==============================] - 0s 762us/step\n"
     ]
    }
   ],
   "source": [
    "id_list = PARKING_ID_LIST\n",
    "\n",
    "test_t = np.arange(14400, 50400, 60)\n",
    "test_t = utils.normalize(test_t, MIN_T, MAX_T)\n",
    "\n",
    "id_encoding = utils.one_hot_encoder([PARKING_ID]*len(test_t), id_list)\n",
    "#print(id_encoding.shape)\n",
    "\n",
    "test_d = np.hstack([id_encoding, test_t.reshape(len(test_t), 1)])\n",
    "#print(test_d.shape)\n",
    "\n",
    "output = nn.model.predict(test_d)\n",
    "output = utils.de_standardize(output, MEAN, STD)"
   ]
  },
  {
   "cell_type": "code",
   "execution_count": 35,
   "id": "5804c1c6-7f25-4c23-8ad8-bd5e94f6f9ca",
   "metadata": {},
   "outputs": [
    {
     "data": {
      "image/png": "[encoded data removed]",
      "text/plain": [
       "<Figure size 640x480 with 1 Axes>"
      ]
     },
     "metadata": {},
     "output_type": "display_data"
    }
   ],
   "source": [
    "p_lot = nominals[nominals[\"ids\"] == PARKING_ID]\n",
    "p_lot_occup = p_lot.groupby(\"timestamp\")[\"percentage\"].mean()\n",
    "plt.plot(p_lot_occup.index/(60*60), p_lot_occup, label=\"measured (day0)\")\n",
    "plt.plot(p_lot_occup.index/(60*60), output, \"--\", label=\"estimated\")\n",
    "plt.xlabel(\"time [h]\")\n",
    "plt.ylabel(\"occupied [vehicles]\")\n",
    "plt.legend()\n",
    "plt.title(PARKING_ID)\n",
    "plt.show()"
   ]
  },
  {
   "cell_type": "markdown",
   "id": "e10db7af-a9c6-4201-9076-c3768ee73add",
   "metadata": {},
   "source": [
    "### **Testing with the last 5 days**"
   ]
  },
  {
   "cell_type": "code",
   "execution_count": 38,
   "id": "0eff382c-b67b-45a8-9677-5d6c764688da",
   "metadata": {},
   "outputs": [],
   "source": [
    "test_data = pd.read_csv(\"../02_data/nn_baseline_test.csv\", header=None)\n",
    "test_data = np.array(test_data)"
   ]
  },
  {
   "cell_type": "code",
   "execution_count": 41,
   "id": "3ddf184c-e264-48f4-bb14-7d2eb69783cf",
   "metadata": {},
   "outputs": [
    {
     "name": "stdout",
     "output_type": "stream",
     "text": [
      "762/762 [==============================] - 1s 1ms/step - loss: 0.0018\n",
      "Test loss:\t0.0018\n"
     ]
    }
   ],
   "source": [
    "result = nn.model.evaluate(test_data[:,:-1],\n",
    "                  test_data[:,-1], batch_size=1000)\n",
    "\n",
    "print(\"Test loss:\\t%.4f\"%result)"
   ]
  }
 ],
 "metadata": {
  "kernelspec": {
   "display_name": "tf_env",
   "language": "python",
   "name": "tf_env"
  },
  "language_info": {
   "codemirror_mode": {
    "name": "ipython",
    "version": 3
   },
   "file_extension": ".py",
   "mimetype": "text/x-python",
   "name": "python",
   "nbconvert_exporter": "python",
   "pygments_lexer": "ipython3",
   "version": "3.10.4"
  }
 },
 "nbformat": 4,
 "nbformat_minor": 5
}
