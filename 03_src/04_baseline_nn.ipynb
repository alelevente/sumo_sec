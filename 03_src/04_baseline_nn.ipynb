{
 "cells": [
  {
   "cell_type": "markdown",
   "id": "738a4b50-5655-4a95-8b25-01642979c463",
   "metadata": {},
   "source": [
    "# **Baseline measurements**\n",
    "\n",
    "Measurements with all the available occupation data:\n",
    "- No federated learning\n",
    "- 55 days available for learning\n",
    "- 5 days for testing"
   ]
  },
  {
   "cell_type": "code",
   "execution_count": 1,
   "id": "ee97af75-bd6e-44b3-80fb-294370794199",
   "metadata": {},
   "outputs": [],
   "source": [
    "EPOCHS = 100\n",
    "TRAIN = range(0, 55)\n",
    "TEST = range(55, 60)"
   ]
  },
  {
   "cell_type": "code",
   "execution_count": 2,
   "id": "ec7eacaf-e4af-4ec7-85ad-1b633506c073",
   "metadata": {},
   "outputs": [],
   "source": [
    "%matplotlib inline\n",
    "\n",
    "import numpy as np\n",
    "import pandas as pd\n",
    "\n",
    "import tensorflow as tf\n",
    "from tensorflow import keras\n",
    "\n",
    "import neural_network\n",
    "import utils\n",
    "\n",
    "from importlib import reload\n",
    "reload(neural_network);"
   ]
  },
  {
   "cell_type": "markdown",
   "id": "0894f102-4ee1-4ebf-9224-6648d57b05dc",
   "metadata": {
    "tags": []
   },
   "source": [
    "## **Data preparation**"
   ]
  },
  {
   "cell_type": "code",
   "execution_count": 3,
   "id": "f971b31d-f43e-428c-b12a-d439ed67d94a",
   "metadata": {},
   "outputs": [],
   "source": [
    "MEAS_ROOT = \"../dockeroutput/\""
   ]
  },
  {
   "cell_type": "code",
   "execution_count": 4,
   "id": "18967564-7205-4558-b91f-7b3f33171152",
   "metadata": {},
   "outputs": [],
   "source": [
    "#reading capacity data:\n",
    "MOST_PATH = \"../build_inputs//MoSTScenario/scenario/most.sumocfg\"\n",
    "PARKING_AREA_DEFINITIONS = \"../build_inputs/MoSTScenario/scenario/in/add/most.parking.add.xml\"\n",
    "\n",
    "parking_df = pd.read_xml(PARKING_AREA_DEFINITIONS)\n",
    "parking_df = parking_df[parking_df[\"roadsideCapacity\"]>0]\n",
    "parking_df = parking_df.set_index([\"id\"])"
   ]
  },
  {
   "cell_type": "code",
   "execution_count": 5,
   "id": "40dd0cb9-686b-478d-a8e1-4a0c2bf1011a",
   "metadata": {},
   "outputs": [],
   "source": [
    "#constants for normalizing/standardizing:\n",
    "nominals = pd.read_csv(MEAS_ROOT+\"day_0/occupancies.csv\")\n",
    "perc_ = []\n",
    "for i,r in nominals.iterrows():\n",
    "    perc_.append(r.counts/parking_df.loc[r.ids][\"roadsideCapacity\"])\n",
    "nominals[\"percentage\"] = perc_"
   ]
  },
  {
   "cell_type": "code",
   "execution_count": 6,
   "id": "27902b9c-6b6b-499c-9dd8-4c12dfb3d09b",
   "metadata": {},
   "outputs": [],
   "source": [
    "MEAN = np.mean(nominals[\"percentage\"])\n",
    "STD = np.std(nominals[\"percentage\"])\n",
    "MIN_T = 14400\n",
    "MAX_T = 50460\n",
    "\n",
    "PARKING_ID_LIST = [i for i in range(1059, 1186+1)]"
   ]
  },
  {
   "cell_type": "code",
   "execution_count": 7,
   "id": "6944baa6-ef0e-41c5-bbe1-4f48b0654e69",
   "metadata": {},
   "outputs": [],
   "source": [
    "def collect_data(day_range):\n",
    "    collected_data = None\n",
    "    for day in day_range:\n",
    "        meas_path = MEAS_ROOT + \"day_%d/\"%day\n",
    "        df_ = pd.read_csv(meas_path+\"occupancies.csv\")\n",
    "        perc_ = []\n",
    "        for i,r in df_.iterrows():\n",
    "            perc_.append(r.counts/parking_df.loc[r.ids][\"roadsideCapacity\"])\n",
    "        df_[\"percentage\"] = perc_\n",
    "\n",
    "        #one-hot-encoding:\n",
    "        ohe = utils.one_hot_encoder(df_[\"ids\"], PARKING_ID_LIST)\n",
    "        #standardizing percentage values:\n",
    "        percentages = np.array(df_[\"percentage\"]).reshape(len(df_), 1)\n",
    "        percentages = utils.standardize(percentages, MEAN, STD)\n",
    "        #normalizing time values:\n",
    "        times = np.array(df_[\"timestamp\"]).reshape(len(df_), 1)\n",
    "        times = utils.normalize(times, MIN_T, MAX_T)\n",
    "\n",
    "        new_data = np.hstack([ohe, times, percentages])\n",
    "        if collected_data is None:\n",
    "            collected_data = new_data\n",
    "        else:\n",
    "            collected_data = np.vstack([collected_data, new_data])\n",
    "    return collected_data"
   ]
  },
  {
   "cell_type": "code",
   "execution_count": 8,
   "id": "9a97fd15-1950-43a3-82a1-f273f578da37",
   "metadata": {},
   "outputs": [],
   "source": [
    "train_data = pd.DataFrame(collect_data(TRAIN))\n",
    "train_data.to_csv(\"../02_data/nn_baseline_train.csv\", header=False, index=False)"
   ]
  },
  {
   "cell_type": "code",
   "execution_count": 9,
   "id": "1fe0ff19-2da0-4c2d-b310-3b537d0c3b9b",
   "metadata": {},
   "outputs": [],
   "source": [
    "test_data = collect_data(TEST)"
   ]
  },
  {
   "cell_type": "code",
   "execution_count": 10,
   "id": "cf9478c7-6111-42ec-89ab-37a57eb1a5c2",
   "metadata": {},
   "outputs": [],
   "source": [
    "test_data = pd.DataFrame(test_data)\n",
    "test_data.to_csv(\"../02_data/nn_baseline_test.csv\", header=False, index=False)"
   ]
  },
  {
   "cell_type": "markdown",
   "id": "7b6fce41-7083-4eea-bbef-66567af5b4d0",
   "metadata": {
    "tags": []
   },
   "source": [
    "## **Learning**"
   ]
  },
  {
   "cell_type": "code",
   "execution_count": 7,
   "id": "0ff4d49f-6303-4fd6-8c03-9aa213024229",
   "metadata": {},
   "outputs": [],
   "source": [
    "train_data = pd.read_csv(\"../02_data/nn_baseline_train.csv\", header=None)"
   ]
  },
  {
   "cell_type": "code",
   "execution_count": 8,
   "id": "beef15cd-69ab-4965-b609-ad0c52a773ee",
   "metadata": {},
   "outputs": [
    {
     "name": "stderr",
     "output_type": "stream",
     "text": [
      "2023-02-08 12:22:57.191768: I tensorflow/stream_executor/cuda/cuda_gpu_executor.cc:975] successful NUMA node read from SysFS had negative value (-1), but there must be at least one NUMA node, so returning NUMA node zero\n",
      "2023-02-08 12:22:57.236015: I tensorflow/stream_executor/cuda/cuda_gpu_executor.cc:975] successful NUMA node read from SysFS had negative value (-1), but there must be at least one NUMA node, so returning NUMA node zero\n",
      "2023-02-08 12:22:57.236202: I tensorflow/stream_executor/cuda/cuda_gpu_executor.cc:975] successful NUMA node read from SysFS had negative value (-1), but there must be at least one NUMA node, so returning NUMA node zero\n",
      "2023-02-08 12:22:57.237444: I tensorflow/core/platform/cpu_feature_guard.cc:193] This TensorFlow binary is optimized with oneAPI Deep Neural Network Library (oneDNN) to use the following CPU instructions in performance-critical operations:  AVX2 FMA\n",
      "To enable them in other operations, rebuild TensorFlow with the appropriate compiler flags.\n",
      "2023-02-08 12:22:57.238388: I tensorflow/stream_executor/cuda/cuda_gpu_executor.cc:975] successful NUMA node read from SysFS had negative value (-1), but there must be at least one NUMA node, so returning NUMA node zero\n",
      "2023-02-08 12:22:57.238556: I tensorflow/stream_executor/cuda/cuda_gpu_executor.cc:975] successful NUMA node read from SysFS had negative value (-1), but there must be at least one NUMA node, so returning NUMA node zero\n",
      "2023-02-08 12:22:57.238702: I tensorflow/stream_executor/cuda/cuda_gpu_executor.cc:975] successful NUMA node read from SysFS had negative value (-1), but there must be at least one NUMA node, so returning NUMA node zero\n",
      "2023-02-08 12:22:57.920688: I tensorflow/stream_executor/cuda/cuda_gpu_executor.cc:975] successful NUMA node read from SysFS had negative value (-1), but there must be at least one NUMA node, so returning NUMA node zero\n",
      "2023-02-08 12:22:57.920883: I tensorflow/stream_executor/cuda/cuda_gpu_executor.cc:975] successful NUMA node read from SysFS had negative value (-1), but there must be at least one NUMA node, so returning NUMA node zero\n",
      "2023-02-08 12:22:57.921039: I tensorflow/stream_executor/cuda/cuda_gpu_executor.cc:975] successful NUMA node read from SysFS had negative value (-1), but there must be at least one NUMA node, so returning NUMA node zero\n",
      "2023-02-08 12:22:57.921171: I tensorflow/core/common_runtime/gpu/gpu_device.cc:1532] Created device /job:localhost/replica:0/task:0/device:GPU:0 with 10170 MB memory:  -> device: 0, name: NVIDIA GeForce RTX 3060, pci bus id: 0000:08:00.0, compute capability: 8.6\n"
     ]
    }
   ],
   "source": [
    "nn = neural_network.NeuralNetwork()"
   ]
  },
  {
   "cell_type": "code",
   "execution_count": 9,
   "id": "bcf3f24b-5102-4844-a709-96bfc8c7136c",
   "metadata": {},
   "outputs": [],
   "source": [
    "train_data = np.array(train_data.sample(frac=0.33))\n",
    "#train_data = data[:int(len(data)*.7)]\n",
    "#test_data = data[int(len(data)*.7)+1:]"
   ]
  },
  {
   "cell_type": "code",
   "execution_count": 10,
   "id": "67c93e35-8194-4848-be24-93f74e2d5550",
   "metadata": {},
   "outputs": [
    {
     "name": "stdout",
     "output_type": "stream",
     "text": [
      "Epoch 1/100\n"
     ]
    },
    {
     "name": "stderr",
     "output_type": "stream",
     "text": [
      "2023-02-08 12:23:12.910401: W tensorflow/core/framework/cpu_allocator_impl.cc:82] Allocation of 999100356 exceeds 10% of free system memory.\n"
     ]
    },
    {
     "name": "stdout",
     "output_type": "stream",
     "text": [
      "  80/1937 [>.............................] - ETA: 3s - loss: 0.4658 "
     ]
    },
    {
     "name": "stderr",
     "output_type": "stream",
     "text": [
      "2023-02-08 12:23:14.284848: I tensorflow/stream_executor/cuda/cuda_blas.cc:1786] TensorFloat-32 will be used for the matrix multiplication. This will only be logged once.\n"
     ]
    },
    {
     "name": "stdout",
     "output_type": "stream",
     "text": [
      "1937/1937 [==============================] - 6s 2ms/step - loss: 0.0572 - val_loss: 0.0155\n",
      "Epoch 2/100\n",
      "1937/1937 [==============================] - 5s 2ms/step - loss: 0.0077 - val_loss: 0.0083\n",
      "Epoch 3/100\n",
      "1937/1937 [==============================] - 4s 2ms/step - loss: 0.0052 - val_loss: 0.0091\n",
      "Epoch 4/100\n",
      "1937/1937 [==============================] - 5s 2ms/step - loss: 0.0043 - val_loss: 0.0026\n",
      "Epoch 5/100\n",
      "1937/1937 [==============================] - 4s 2ms/step - loss: 0.0037 - val_loss: 0.0103\n",
      "Epoch 6/100\n",
      "1937/1937 [==============================] - 5s 2ms/step - loss: 0.0034 - val_loss: 0.0038\n",
      "Epoch 7/100\n",
      "1937/1937 [==============================] - 4s 2ms/step - loss: 0.0031 - val_loss: 0.0052\n",
      "Epoch 8/100\n",
      "1937/1937 [==============================] - 5s 2ms/step - loss: 0.0029 - val_loss: 0.0023\n",
      "Epoch 9/100\n",
      "1937/1937 [==============================] - 4s 2ms/step - loss: 0.0027 - val_loss: 0.0043\n",
      "Epoch 10/100\n",
      "1937/1937 [==============================] - 4s 2ms/step - loss: 0.0026 - val_loss: 0.0018\n",
      "Epoch 11/100\n",
      "1937/1937 [==============================] - 4s 2ms/step - loss: 0.0025 - val_loss: 0.0069\n",
      "Epoch 12/100\n",
      "1937/1937 [==============================] - 4s 2ms/step - loss: 0.0024 - val_loss: 0.0024\n",
      "Epoch 13/100\n",
      "1937/1937 [==============================] - 4s 2ms/step - loss: 0.0023 - val_loss: 0.0032\n",
      "Epoch 14/100\n",
      "1937/1937 [==============================] - 5s 2ms/step - loss: 0.0022 - val_loss: 0.0024\n",
      "Epoch 15/100\n",
      "1937/1937 [==============================] - 4s 2ms/step - loss: 0.0022 - val_loss: 0.0016\n",
      "Epoch 16/100\n",
      "1937/1937 [==============================] - 4s 2ms/step - loss: 0.0021 - val_loss: 0.0022\n",
      "Epoch 17/100\n",
      "1937/1937 [==============================] - 4s 2ms/step - loss: 0.0021 - val_loss: 0.0035\n",
      "Epoch 18/100\n",
      "1937/1937 [==============================] - 4s 2ms/step - loss: 0.0020 - val_loss: 0.0020\n",
      "Epoch 19/100\n",
      "1937/1937 [==============================] - 5s 2ms/step - loss: 0.0019 - val_loss: 0.0015\n",
      "Epoch 20/100\n",
      "1937/1937 [==============================] - 4s 2ms/step - loss: 0.0019 - val_loss: 0.0017\n",
      "Epoch 21/100\n",
      "1937/1937 [==============================] - 4s 2ms/step - loss: 0.0018 - val_loss: 0.0014\n",
      "Epoch 22/100\n",
      "1937/1937 [==============================] - 5s 2ms/step - loss: 0.0018 - val_loss: 0.0013\n",
      "Epoch 23/100\n",
      "1937/1937 [==============================] - 4s 2ms/step - loss: 0.0018 - val_loss: 0.0023\n",
      "Epoch 24/100\n",
      "1937/1937 [==============================] - 5s 2ms/step - loss: 0.0017 - val_loss: 0.0013\n"
     ]
    }
   ],
   "source": [
    "callback = tf.keras.callbacks.EarlyStopping(monitor='loss', min_delta=0.0001, patience=3)\n",
    "history = nn.model.fit(train_data[:,:-1],\n",
    "                       train_data[:,-1], batch_size=1000, epochs=EPOCHS, validation_split=.3,\n",
    "                       callbacks=[callback])\n",
    "#eval_model = nn.model.evaluate(test_data[:,:-1], test_data[:,-1], batch_size=1000)"
   ]
  },
  {
   "cell_type": "code",
   "execution_count": 11,
   "id": "b79b2a6f-f783-49d4-801f-cf52dfc56757",
   "metadata": {},
   "outputs": [
    {
     "data": {
      "text/plain": [
       "{'loss': [0.057234711945056915,\n",
       "  0.007692764047533274,\n",
       "  0.0052165198139846325,\n",
       "  0.004276522900909185,\n",
       "  0.00371812772937119,\n",
       "  0.0033933536615222692,\n",
       "  0.0031084271613508463,\n",
       "  0.002918832004070282,\n",
       "  0.0027437538374215364,\n",
       "  0.0026078822556883097,\n",
       "  0.0024834759533405304,\n",
       "  0.0023753789719194174,\n",
       "  0.0022986559197306633,\n",
       "  0.0022476250305771828,\n",
       "  0.002160850213840604,\n",
       "  0.002088741632178426,\n",
       "  0.002058787737041712,\n",
       "  0.0019875408615916967,\n",
       "  0.0019454890862107277,\n",
       "  0.0018997006118297577,\n",
       "  0.0018408282194286585,\n",
       "  0.0018237640615552664,\n",
       "  0.0017843329114839435,\n",
       "  0.0017469265731051564],\n",
       " 'val_loss': [0.015467716380953789,\n",
       "  0.00834574457257986,\n",
       "  0.009104988537728786,\n",
       "  0.002551422454416752,\n",
       "  0.010320923291146755,\n",
       "  0.003757694736123085,\n",
       "  0.005190587602555752,\n",
       "  0.002274228958413005,\n",
       "  0.004344024229794741,\n",
       "  0.0018134827259927988,\n",
       "  0.006945373956114054,\n",
       "  0.002381361788138747,\n",
       "  0.003201564773917198,\n",
       "  0.0024324983824044466,\n",
       "  0.0015938798896968365,\n",
       "  0.0021929156500846148,\n",
       "  0.0034893611446022987,\n",
       "  0.0019540530629456043,\n",
       "  0.0014574696542695165,\n",
       "  0.0016694790683686733,\n",
       "  0.0014227869687601924,\n",
       "  0.0012840942945331335,\n",
       "  0.0022916856687515974,\n",
       "  0.0012506748316809535]}"
      ]
     },
     "execution_count": 11,
     "metadata": {},
     "output_type": "execute_result"
    }
   ],
   "source": [
    "history.history"
   ]
  },
  {
   "cell_type": "markdown",
   "id": "c97e332a-3d7d-433e-879f-20b85f898a9d",
   "metadata": {},
   "source": [
    "### Saving the model"
   ]
  },
  {
   "cell_type": "code",
   "execution_count": 12,
   "id": "e8c88eae-7299-43b9-91b2-6e7ca3ce9efa",
   "metadata": {},
   "outputs": [
    {
     "name": "stdout",
     "output_type": "stream",
     "text": [
      "INFO:tensorflow:Assets written to: ../04_nn_models/baseline/assets\n"
     ]
    }
   ],
   "source": [
    "nn.model.save(\"../04_nn_models/baseline\")"
   ]
  },
  {
   "cell_type": "markdown",
   "id": "6ce42834-aed6-4d0e-9128-2bed9b5302ab",
   "metadata": {},
   "source": [
    "## **Testing**"
   ]
  },
  {
   "cell_type": "code",
   "execution_count": 13,
   "id": "a267a098-e914-491c-a2d3-02d2f75d9076",
   "metadata": {},
   "outputs": [],
   "source": [
    "nn.model = keras.models.load_model(\"../04_nn_models/baseline\")"
   ]
  },
  {
   "cell_type": "code",
   "execution_count": 14,
   "id": "c99928c9-c08e-4882-ac6b-9a36b4df161e",
   "metadata": {},
   "outputs": [],
   "source": [
    "import matplotlib.pyplot as plt"
   ]
  },
  {
   "cell_type": "code",
   "execution_count": 15,
   "id": "ad8490a3-7a03-4c42-9d9b-396fad196b56",
   "metadata": {},
   "outputs": [
    {
     "data": {
      "text/plain": [
       "Text(0.5, 1.0, 'Learning curves')"
      ]
     },
     "execution_count": 15,
     "metadata": {},
     "output_type": "execute_result"
    },
    {
     "data": {
      "image/png": "[encoded data removed]",
      "text/plain": [
       "<Figure size 640x480 with 1 Axes>"
      ]
     },
     "metadata": {},
     "output_type": "display_data"
    }
   ],
   "source": [
    "plt.plot(history.history[\"loss\"], label=\"train loss\")\n",
    "plt.plot(history.history[\"val_loss\"], label=\"val. loss\")\n",
    "plt.xlabel(\"epochs\")\n",
    "plt.ylabel(\"MSE\")\n",
    "plt.legend()\n",
    "plt.title(\"Learning curves\")"
   ]
  },
  {
   "cell_type": "markdown",
   "id": "24f4806c-3aca-4601-a033-86be2ee89f71",
   "metadata": {},
   "source": [
    "### **Testing with a specific parking lot**"
   ]
  },
  {
   "cell_type": "code",
   "execution_count": 16,
   "id": "23fdf185-8f54-4519-935f-02485cbc643b",
   "metadata": {},
   "outputs": [],
   "source": [
    "PARKING_ID = 1150"
   ]
  },
  {
   "cell_type": "code",
   "execution_count": 17,
   "id": "4f82c818-16c2-4f49-83f2-b21abc0d1f32",
   "metadata": {},
   "outputs": [
    {
     "name": "stdout",
     "output_type": "stream",
     "text": [
      "19/19 [==============================] - 0s 742us/step\n"
     ]
    }
   ],
   "source": [
    "id_list = PARKING_ID_LIST\n",
    "\n",
    "test_t = np.arange(14400, 50400, 60)\n",
    "test_t = utils.normalize(test_t, MIN_T, MAX_T)\n",
    "\n",
    "id_encoding = utils.one_hot_encoder([PARKING_ID]*len(test_t), id_list)\n",
    "#print(id_encoding.shape)\n",
    "\n",
    "test_d = np.hstack([id_encoding, test_t.reshape(len(test_t), 1)])\n",
    "#print(test_d.shape)\n",
    "\n",
    "output = nn.model.predict(test_d)\n",
    "output = utils.de_standardize(output, MEAN, STD)"
   ]
  },
  {
   "cell_type": "code",
   "execution_count": 18,
   "id": "7d5402ff-e6ec-493d-b669-5365a5d6dc61",
   "metadata": {},
   "outputs": [
    {
     "data": {
      "text/html": [
       "<div>\n",
       "<style scoped>\n",
       "    .dataframe tbody tr th:only-of-type {\n",
       "        vertical-align: middle;\n",
       "    }\n",
       "\n",
       "    .dataframe tbody tr th {\n",
       "        vertical-align: top;\n",
       "    }\n",
       "\n",
       "    .dataframe thead th {\n",
       "        text-align: right;\n",
       "    }\n",
       "</style>\n",
       "<table border=\"1\" class=\"dataframe\">\n",
       "  <thead>\n",
       "    <tr style=\"text-align: right;\">\n",
       "      <th></th>\n",
       "      <th>ids</th>\n",
       "      <th>timestamp</th>\n",
       "      <th>counts</th>\n",
       "      <th>percentage</th>\n",
       "    </tr>\n",
       "  </thead>\n",
       "  <tbody>\n",
       "    <tr>\n",
       "      <th>0</th>\n",
       "      <td>1059</td>\n",
       "      <td>14460</td>\n",
       "      <td>0</td>\n",
       "      <td>0.0</td>\n",
       "    </tr>\n",
       "    <tr>\n",
       "      <th>1</th>\n",
       "      <td>1060</td>\n",
       "      <td>14460</td>\n",
       "      <td>0</td>\n",
       "      <td>0.0</td>\n",
       "    </tr>\n",
       "    <tr>\n",
       "      <th>2</th>\n",
       "      <td>1061</td>\n",
       "      <td>14460</td>\n",
       "      <td>0</td>\n",
       "      <td>0.0</td>\n",
       "    </tr>\n",
       "    <tr>\n",
       "      <th>3</th>\n",
       "      <td>1062</td>\n",
       "      <td>14460</td>\n",
       "      <td>0</td>\n",
       "      <td>0.0</td>\n",
       "    </tr>\n",
       "    <tr>\n",
       "      <th>4</th>\n",
       "      <td>1063</td>\n",
       "      <td>14460</td>\n",
       "      <td>0</td>\n",
       "      <td>0.0</td>\n",
       "    </tr>\n",
       "    <tr>\n",
       "      <th>...</th>\n",
       "      <td>...</td>\n",
       "      <td>...</td>\n",
       "      <td>...</td>\n",
       "      <td>...</td>\n",
       "    </tr>\n",
       "    <tr>\n",
       "      <th>9143995</th>\n",
       "      <td>1182</td>\n",
       "      <td>50400</td>\n",
       "      <td>0</td>\n",
       "      <td>0.0</td>\n",
       "    </tr>\n",
       "    <tr>\n",
       "      <th>9143996</th>\n",
       "      <td>1183</td>\n",
       "      <td>50400</td>\n",
       "      <td>0</td>\n",
       "      <td>0.0</td>\n",
       "    </tr>\n",
       "    <tr>\n",
       "      <th>9143997</th>\n",
       "      <td>1184</td>\n",
       "      <td>50400</td>\n",
       "      <td>0</td>\n",
       "      <td>0.0</td>\n",
       "    </tr>\n",
       "    <tr>\n",
       "      <th>9143998</th>\n",
       "      <td>1185</td>\n",
       "      <td>50400</td>\n",
       "      <td>0</td>\n",
       "      <td>0.0</td>\n",
       "    </tr>\n",
       "    <tr>\n",
       "      <th>9143999</th>\n",
       "      <td>1186</td>\n",
       "      <td>50400</td>\n",
       "      <td>0</td>\n",
       "      <td>0.0</td>\n",
       "    </tr>\n",
       "  </tbody>\n",
       "</table>\n",
       "<p>9144000 rows × 4 columns</p>\n",
       "</div>"
      ],
      "text/plain": [
       "          ids  timestamp  counts  percentage\n",
       "0        1059      14460       0         0.0\n",
       "1        1060      14460       0         0.0\n",
       "2        1061      14460       0         0.0\n",
       "3        1062      14460       0         0.0\n",
       "4        1063      14460       0         0.0\n",
       "...       ...        ...     ...         ...\n",
       "9143995  1182      50400       0         0.0\n",
       "9143996  1183      50400       0         0.0\n",
       "9143997  1184      50400       0         0.0\n",
       "9143998  1185      50400       0         0.0\n",
       "9143999  1186      50400       0         0.0\n",
       "\n",
       "[9144000 rows x 4 columns]"
      ]
     },
     "execution_count": 18,
     "metadata": {},
     "output_type": "execute_result"
    }
   ],
   "source": [
    "oracle = pd.read_csv(\"../02_data/oracle.csv\")\n",
    "oracle"
   ]
  },
  {
   "cell_type": "code",
   "execution_count": 23,
   "id": "5804c1c6-7f25-4c23-8ad8-bd5e94f6f9ca",
   "metadata": {},
   "outputs": [
    {
     "data": {
      "image/png": "[encoded data removed]",
      "text/plain": [
       "<Figure size 600x300 with 1 Axes>"
      ]
     },
     "metadata": {},
     "output_type": "display_data"
    }
   ],
   "source": [
    "plt.figure(figsize=[6,3])\n",
    "p_lot = oracle[oracle[\"ids\"] == PARKING_ID]\n",
    "p_lot_occup_mean = p_lot.groupby(\"timestamp\")[\"percentage\"].mean()\n",
    "p_lot_occup_std = p_lot.groupby(\"timestamp\")[\"percentage\"].std()\n",
    "plt.plot(p_lot_occup_mean.index/(60*60), p_lot_occup_mean, label=\"mean of measured values\")\n",
    "plt.fill_between(p_lot_occup_mean.index/(60*60), p_lot_occup_mean-p_lot_occup_std,\n",
    "                 p_lot_occup_mean+p_lot_occup_std, alpha=0.3, color=\"tab:blue\",\n",
    "                 label=\"std. of measured values\")\n",
    "plt.plot(p_lot_occup_mean.index/(60*60), output, \"--\", label=\"estimated\")\n",
    "plt.xlabel(\"time [h]\")\n",
    "plt.ylabel(\"occupied [vehicles]\")\n",
    "plt.legend()\n",
    "plt.title(\"Estimated occupancy of\\nparking lot %d\\nby the centralized learning setup\"%PARKING_ID)\n",
    "plt.ylim(-.05, 1.05)\n",
    "plt.show()"
   ]
  },
  {
   "cell_type": "markdown",
   "id": "e10db7af-a9c6-4201-9076-c3768ee73add",
   "metadata": {},
   "source": [
    "### **Testing with the last 5 days**"
   ]
  },
  {
   "cell_type": "code",
   "execution_count": 24,
   "id": "0eff382c-b67b-45a8-9677-5d6c764688da",
   "metadata": {},
   "outputs": [],
   "source": [
    "test_data = pd.read_csv(\"../02_data/nn_baseline_test.csv\", header=None)\n",
    "test_data = np.array(test_data)"
   ]
  },
  {
   "cell_type": "code",
   "execution_count": 25,
   "id": "3ddf184c-e264-48f4-bb14-7d2eb69783cf",
   "metadata": {},
   "outputs": [
    {
     "name": "stdout",
     "output_type": "stream",
     "text": [
      "762/762 [==============================] - 1s 1ms/step - loss: 0.0014\n",
      "Test loss:\t0.0014\n"
     ]
    }
   ],
   "source": [
    "result = nn.model.evaluate(test_data[:,:-1],\n",
    "                  test_data[:,-1], batch_size=1000)\n",
    "\n",
    "print(\"Test loss:\\t%.4f\"%result)"
   ]
  }
 ],
 "metadata": {
  "kernelspec": {
   "display_name": "tf_env",
   "language": "python",
   "name": "tf_env"
  },
  "language_info": {
   "codemirror_mode": {
    "name": "ipython",
    "version": 3
   },
   "file_extension": ".py",
   "mimetype": "text/x-python",
   "name": "python",
   "nbconvert_exporter": "python",
   "pygments_lexer": "ipython3",
   "version": "3.10.4"
  }
 },
 "nbformat": 4,
 "nbformat_minor": 5
}
