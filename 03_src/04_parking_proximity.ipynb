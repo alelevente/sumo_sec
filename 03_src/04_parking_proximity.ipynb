{
 "cells": [
  {
   "cell_type": "markdown",
   "id": "c7b13bcd-a968-461d-828e-31c64832987b",
   "metadata": {},
   "source": [
    "# **Exporting distances of edges from given road segments**"
   ]
  },
  {
   "cell_type": "code",
   "execution_count": 1,
   "id": "30907af7-724a-452b-b73c-3f5b0744c689",
   "metadata": {},
   "outputs": [],
   "source": [
    "MAX_DISTANCE = 150"
   ]
  },
  {
   "cell_type": "code",
   "execution_count": 2,
   "id": "22cae763-04a3-4586-bf4c-eb78e7e43afd",
   "metadata": {},
   "outputs": [],
   "source": [
    "import os, sys\n",
    "import numpy as np\n",
    "import json\n",
    "\n",
    "SUMO_HOME = os.environ[\"SUMO_HOME\"] #locating the simulator\n",
    "sys.path.append(SUMO_HOME+\"/tools\")\n",
    "import traci\n",
    "import sumolib"
   ]
  },
  {
   "cell_type": "code",
   "execution_count": 3,
   "id": "ecf7f24d-7ac9-43b3-9c79-7fe9f688717a",
   "metadata": {},
   "outputs": [],
   "source": [
    "MOST_PATH = \"../../MoSTScenario/scenario/most.sumocfg\"\n",
    "PARKING_AREA_DEFINITIONS = \"../../MoSTScenario/scenario/in/add/most.parking.add.xml\""
   ]
  },
  {
   "cell_type": "code",
   "execution_count": 4,
   "id": "d38add22-edcb-42ed-9541-f5dc38f8b53d",
   "metadata": {},
   "outputs": [],
   "source": [
    "import pandas as pd\n",
    "\n",
    "parking_df = pd.read_xml(PARKING_AREA_DEFINITIONS)\n",
    "parking_df = parking_df[parking_df[\"roadsideCapacity\"]>0]"
   ]
  },
  {
   "cell_type": "code",
   "execution_count": 5,
   "id": "7b52a3de-02c3-4a9d-91c3-32dd6d437641",
   "metadata": {},
   "outputs": [
    {
     "name": "stdout",
     "output_type": "stream",
     "text": [
      " Retrying in 1 seconds\n"
     ]
    },
    {
     "name": "stderr",
     "output_type": "stream",
     "text": [
      "sumo: /home/madbiker/miniconda3/envs/tf_env/lib/libtiff.so.5: no version information available (required by /lib/x86_64-linux-gnu/libproj.so.22)\n",
      "sumo: /home/madbiker/miniconda3/envs/tf_env/lib/libtiff.so.5: no version information available (required by /lib/x86_64-linux-gnu/libFOX-1.6.so.0)\n",
      "Warning: At actuated tlLogic '146640', actuated phase 2 has no controlling detector.\n",
      "Warning: At actuated tlLogic '148690', actuated phase 3 has no controlling detector.\n"
     ]
    },
    {
     "data": {
      "text/plain": [
       "(20, 'SUMO 1.15.0')"
      ]
     },
     "execution_count": 5,
     "metadata": {},
     "output_type": "execute_result"
    }
   ],
   "source": [
    "sumoBinary = \"sumo\"\n",
    "sumoCmd = [sumoBinary, \"-c\", MOST_PATH,\n",
    "           \"--random\", \"--random-depart-offset\", \"900\", \"--verbose\", \"false\",\n",
    "           \"--net-file\", \"../../MoSTScenario/scenario/in/most.net.xml\"]\n",
    "sumoCmd += [\"--additional-files\", \"../../MoSTScenario/scenario/in/add/most.poly.xml,../../MoSTScenario/scenario/in/add/most.parking.allvisible.add.xml\"]\n",
    "\n",
    "traci.start(sumoCmd)"
   ]
  },
  {
   "cell_type": "code",
   "execution_count": 6,
   "id": "79c59bf8-a009-4309-a7cf-bae0e41d2a0c",
   "metadata": {},
   "outputs": [],
   "source": [
    "parking_ids = parking_df[\"id\"].values.tolist()\n",
    "parking_lanes = parking_df[\"lane\"].values.tolist()\n",
    "parking_edges = []\n",
    "for i in range(len(parking_lanes)):\n",
    "    parking_edges.append(traci.lane.getEdgeID(parking_lanes[i]))"
   ]
  },
  {
   "cell_type": "code",
   "execution_count": 7,
   "id": "6bc3a69c-1c9f-4c78-8a89-46238d976942",
   "metadata": {},
   "outputs": [],
   "source": [
    "edges = traci.edge.getIDList()\n",
    "\n",
    "distances = {}\n",
    "\n",
    "for i in range(len(parking_ids)):\n",
    "    for j in range(len(edges)):\n",
    "        distance_ = traci.simulation.getDistanceRoad(parking_edges[i],\n",
    "            traci.lane.getLength(parking_lanes[i])/2,\n",
    "            edges[j],\n",
    "            traci.lane.getLength(edges[j]+\"_0\")/2)\n",
    "        if distance_ <= MAX_DISTANCE:\n",
    "            if not(parking_ids[i] in distances):\n",
    "                distances[parking_ids[i]] = []\n",
    "            distances[parking_ids[i]].append(edges[j])"
   ]
  },
  {
   "cell_type": "code",
   "execution_count": 8,
   "id": "19e04516-0022-4bda-80c4-54a2bc929f08",
   "metadata": {},
   "outputs": [],
   "source": [
    "with open(\"../02_data/proximity.json\", \"w\") as f:\n",
    "    json.dump(distances, f)"
   ]
  },
  {
   "cell_type": "code",
   "execution_count": 9,
   "id": "8523dfab-e1ff-46c1-b84d-294f1190c4c7",
   "metadata": {},
   "outputs": [
    {
     "name": "stdout",
     "output_type": "stream",
     "text": [
      "Step #14400.00 (0ms ?*RT. ?UPS, TraCI: 262812ms, vehicles TOT 0 ACT 0 BUF 0)              \n"
     ]
    }
   ],
   "source": [
    "traci.close()"
   ]
  },
  {
   "cell_type": "markdown",
   "id": "bdb8b88b-7b25-4405-b94b-2083c4dcf401",
   "metadata": {},
   "source": [
    "# **Utilizing the distances to create measurement files**"
   ]
  },
  {
   "cell_type": "code",
   "execution_count": 10,
   "id": "c41f627a-b06a-4a10-a02b-a0bf2bf2db41",
   "metadata": {},
   "outputs": [],
   "source": [
    "DAY = 0\n",
    "MEASUREMENT_PATH = \"/media/madbiker/little_j/day_%d/\"%DAY"
   ]
  },
  {
   "cell_type": "code",
   "execution_count": 11,
   "id": "31e2fb2b-bcfb-4672-a87b-7ea9c2f12d0b",
   "metadata": {},
   "outputs": [],
   "source": [
    "import os, sys\n",
    "import numpy as np\n",
    "import json\n",
    "import pandas as pd"
   ]
  },
  {
   "cell_type": "code",
   "execution_count": 12,
   "id": "f35f640b-37e1-4104-9226-87f4567e29e1",
   "metadata": {},
   "outputs": [],
   "source": [
    "MOST_PATH = \"../../MoSTScenario/scenario/most.sumocfg\"\n",
    "PARKING_AREA_DEFINITIONS = \"../../MoSTScenario/scenario/in/add/most.parking.add.xml\"\n",
    "\n",
    "parking_df = pd.read_xml(PARKING_AREA_DEFINITIONS).set_index(\"id\")\n",
    "parking_df = parking_df[parking_df[\"roadsideCapacity\"]>0]"
   ]
  },
  {
   "cell_type": "code",
   "execution_count": 13,
   "id": "c4caee45-e6ad-45c7-abb2-1161140fc025",
   "metadata": {},
   "outputs": [
    {
     "data": {
      "text/html": [
       "<div>\n",
       "<style scoped>\n",
       "    .dataframe tbody tr th:only-of-type {\n",
       "        vertical-align: middle;\n",
       "    }\n",
       "\n",
       "    .dataframe tbody tr th {\n",
       "        vertical-align: top;\n",
       "    }\n",
       "\n",
       "    .dataframe thead th {\n",
       "        text-align: right;\n",
       "    }\n",
       "</style>\n",
       "<table border=\"1\" class=\"dataframe\">\n",
       "  <thead>\n",
       "    <tr style=\"text-align: right;\">\n",
       "      <th></th>\n",
       "      <th>lane</th>\n",
       "      <th>startPos</th>\n",
       "      <th>endPos</th>\n",
       "      <th>roadsideCapacity</th>\n",
       "      <th>friendlyPos</th>\n",
       "      <th>edges</th>\n",
       "      <th>interval</th>\n",
       "    </tr>\n",
       "    <tr>\n",
       "      <th>id</th>\n",
       "      <th></th>\n",
       "      <th></th>\n",
       "      <th></th>\n",
       "      <th></th>\n",
       "      <th></th>\n",
       "      <th></th>\n",
       "      <th></th>\n",
       "    </tr>\n",
       "  </thead>\n",
       "  <tbody>\n",
       "    <tr>\n",
       "      <th>1059</th>\n",
       "      <td>-153419_1</td>\n",
       "      <td>10.000000</td>\n",
       "      <td>20.000000</td>\n",
       "      <td>225.0</td>\n",
       "      <td>true</td>\n",
       "      <td>None</td>\n",
       "      <td>NaN</td>\n",
       "    </tr>\n",
       "    <tr>\n",
       "      <th>1060</th>\n",
       "      <td>-152335_1</td>\n",
       "      <td>18.191499</td>\n",
       "      <td>28.191499</td>\n",
       "      <td>75.0</td>\n",
       "      <td>true</td>\n",
       "      <td>None</td>\n",
       "      <td>NaN</td>\n",
       "    </tr>\n",
       "    <tr>\n",
       "      <th>1061</th>\n",
       "      <td>153427#0_1</td>\n",
       "      <td>10.000000</td>\n",
       "      <td>20.000000</td>\n",
       "      <td>350.0</td>\n",
       "      <td>true</td>\n",
       "      <td>None</td>\n",
       "      <td>NaN</td>\n",
       "    </tr>\n",
       "    <tr>\n",
       "      <th>1062</th>\n",
       "      <td>-153427#5_1</td>\n",
       "      <td>10.583918</td>\n",
       "      <td>20.583918</td>\n",
       "      <td>350.0</td>\n",
       "      <td>true</td>\n",
       "      <td>None</td>\n",
       "      <td>NaN</td>\n",
       "    </tr>\n",
       "    <tr>\n",
       "      <th>1063</th>\n",
       "      <td>153547_1</td>\n",
       "      <td>37.879874</td>\n",
       "      <td>47.879874</td>\n",
       "      <td>50.0</td>\n",
       "      <td>true</td>\n",
       "      <td>None</td>\n",
       "      <td>NaN</td>\n",
       "    </tr>\n",
       "    <tr>\n",
       "      <th>...</th>\n",
       "      <td>...</td>\n",
       "      <td>...</td>\n",
       "      <td>...</td>\n",
       "      <td>...</td>\n",
       "      <td>...</td>\n",
       "      <td>...</td>\n",
       "      <td>...</td>\n",
       "    </tr>\n",
       "    <tr>\n",
       "      <th>1182</th>\n",
       "      <td>152858_1</td>\n",
       "      <td>10.000000</td>\n",
       "      <td>20.000000</td>\n",
       "      <td>75.0</td>\n",
       "      <td>true</td>\n",
       "      <td>None</td>\n",
       "      <td>NaN</td>\n",
       "    </tr>\n",
       "    <tr>\n",
       "      <th>1183</th>\n",
       "      <td>153323#4_1</td>\n",
       "      <td>197.261809</td>\n",
       "      <td>207.261809</td>\n",
       "      <td>250.0</td>\n",
       "      <td>true</td>\n",
       "      <td>None</td>\n",
       "      <td>NaN</td>\n",
       "    </tr>\n",
       "    <tr>\n",
       "      <th>1184</th>\n",
       "      <td>-153323#1_1</td>\n",
       "      <td>31.065872</td>\n",
       "      <td>41.065872</td>\n",
       "      <td>75.0</td>\n",
       "      <td>true</td>\n",
       "      <td>None</td>\n",
       "      <td>NaN</td>\n",
       "    </tr>\n",
       "    <tr>\n",
       "      <th>1185</th>\n",
       "      <td>152152_0</td>\n",
       "      <td>61.707370</td>\n",
       "      <td>71.707370</td>\n",
       "      <td>50.0</td>\n",
       "      <td>true</td>\n",
       "      <td>None</td>\n",
       "      <td>NaN</td>\n",
       "    </tr>\n",
       "    <tr>\n",
       "      <th>1186</th>\n",
       "      <td>152324_1</td>\n",
       "      <td>425.983611</td>\n",
       "      <td>435.983611</td>\n",
       "      <td>350.0</td>\n",
       "      <td>true</td>\n",
       "      <td>None</td>\n",
       "      <td>NaN</td>\n",
       "    </tr>\n",
       "  </tbody>\n",
       "</table>\n",
       "<p>127 rows × 7 columns</p>\n",
       "</div>"
      ],
      "text/plain": [
       "             lane    startPos      endPos  roadsideCapacity friendlyPos edges  \\\n",
       "id                                                                              \n",
       "1059    -153419_1   10.000000   20.000000             225.0        true  None   \n",
       "1060    -152335_1   18.191499   28.191499              75.0        true  None   \n",
       "1061   153427#0_1   10.000000   20.000000             350.0        true  None   \n",
       "1062  -153427#5_1   10.583918   20.583918             350.0        true  None   \n",
       "1063     153547_1   37.879874   47.879874              50.0        true  None   \n",
       "...           ...         ...         ...               ...         ...   ...   \n",
       "1182     152858_1   10.000000   20.000000              75.0        true  None   \n",
       "1183   153323#4_1  197.261809  207.261809             250.0        true  None   \n",
       "1184  -153323#1_1   31.065872   41.065872              75.0        true  None   \n",
       "1185     152152_0   61.707370   71.707370              50.0        true  None   \n",
       "1186     152324_1  425.983611  435.983611             350.0        true  None   \n",
       "\n",
       "      interval  \n",
       "id              \n",
       "1059       NaN  \n",
       "1060       NaN  \n",
       "1061       NaN  \n",
       "1062       NaN  \n",
       "1063       NaN  \n",
       "...        ...  \n",
       "1182       NaN  \n",
       "1183       NaN  \n",
       "1184       NaN  \n",
       "1185       NaN  \n",
       "1186       NaN  \n",
       "\n",
       "[127 rows x 7 columns]"
      ]
     },
     "execution_count": 13,
     "metadata": {},
     "output_type": "execute_result"
    }
   ],
   "source": [
    "parking_df"
   ]
  },
  {
   "cell_type": "code",
   "execution_count": 15,
   "id": "2254645d-41a4-4813-be52-e2f80a193ff4",
   "metadata": {},
   "outputs": [],
   "source": [
    "with open(\"../02_data/proximity.json\", \"r\") as f:\n",
    "    distances = json.load(f)\n",
    "    \n",
    "proximity = {}\n",
    "for x in distances:\n",
    "    for y in distances[x]:\n",
    "        if not(y in proximity):\n",
    "            proximity[y] = []\n",
    "        proximity[y].append(x)"
   ]
  },
  {
   "cell_type": "code",
   "execution_count": 17,
   "id": "bbabb590-74c5-4eb3-a35c-8079acc0b1af",
   "metadata": {},
   "outputs": [],
   "source": [
    "with open(MEASUREMENT_PATH+\"edge_maps.json\", \"r\") as f:\n",
    "    maps = json.load(f)\n",
    "    edge_to_idx = maps[\"edge_to_idx_map\"]\n",
    "    idx_to_edge = maps[\"idx_to_edge_map\"]"
   ]
  },
  {
   "cell_type": "code",
   "execution_count": 18,
   "id": "1c92c824-48f4-45cf-a46e-14da135d2cf5",
   "metadata": {},
   "outputs": [],
   "source": [
    "movements = pd.read_csv(MEASUREMENT_PATH+\"_vehicle_positions.csv\")"
   ]
  },
  {
   "cell_type": "code",
   "execution_count": 19,
   "id": "ac50425a-c7dc-4125-8d91-08bb878bab47",
   "metadata": {},
   "outputs": [],
   "source": [
    "occupancies = pd.read_csv(MEASUREMENT_PATH+\"occupancies.csv\")"
   ]
  },
  {
   "cell_type": "code",
   "execution_count": 22,
   "id": "105676fb-8141-4866-b5de-723d0e684d86",
   "metadata": {},
   "outputs": [
    {
     "data": {
      "text/html": [
       "<div>\n",
       "<style scoped>\n",
       "    .dataframe tbody tr th:only-of-type {\n",
       "        vertical-align: middle;\n",
       "    }\n",
       "\n",
       "    .dataframe tbody tr th {\n",
       "        vertical-align: top;\n",
       "    }\n",
       "\n",
       "    .dataframe thead th {\n",
       "        text-align: right;\n",
       "    }\n",
       "</style>\n",
       "<table border=\"1\" class=\"dataframe\">\n",
       "  <thead>\n",
       "    <tr style=\"text-align: right;\">\n",
       "      <th></th>\n",
       "      <th>ids</th>\n",
       "      <th>timestamp</th>\n",
       "      <th>counts</th>\n",
       "    </tr>\n",
       "  </thead>\n",
       "  <tbody>\n",
       "    <tr>\n",
       "      <th>0</th>\n",
       "      <td>1059</td>\n",
       "      <td>14460</td>\n",
       "      <td>0</td>\n",
       "    </tr>\n",
       "    <tr>\n",
       "      <th>1</th>\n",
       "      <td>1060</td>\n",
       "      <td>14460</td>\n",
       "      <td>0</td>\n",
       "    </tr>\n",
       "    <tr>\n",
       "      <th>2</th>\n",
       "      <td>1061</td>\n",
       "      <td>14460</td>\n",
       "      <td>0</td>\n",
       "    </tr>\n",
       "    <tr>\n",
       "      <th>3</th>\n",
       "      <td>1062</td>\n",
       "      <td>14460</td>\n",
       "      <td>0</td>\n",
       "    </tr>\n",
       "    <tr>\n",
       "      <th>4</th>\n",
       "      <td>1063</td>\n",
       "      <td>14460</td>\n",
       "      <td>0</td>\n",
       "    </tr>\n",
       "    <tr>\n",
       "      <th>...</th>\n",
       "      <td>...</td>\n",
       "      <td>...</td>\n",
       "      <td>...</td>\n",
       "    </tr>\n",
       "    <tr>\n",
       "      <th>152395</th>\n",
       "      <td>1182</td>\n",
       "      <td>50400</td>\n",
       "      <td>0</td>\n",
       "    </tr>\n",
       "    <tr>\n",
       "      <th>152396</th>\n",
       "      <td>1183</td>\n",
       "      <td>50400</td>\n",
       "      <td>0</td>\n",
       "    </tr>\n",
       "    <tr>\n",
       "      <th>152397</th>\n",
       "      <td>1184</td>\n",
       "      <td>50400</td>\n",
       "      <td>0</td>\n",
       "    </tr>\n",
       "    <tr>\n",
       "      <th>152398</th>\n",
       "      <td>1185</td>\n",
       "      <td>50400</td>\n",
       "      <td>0</td>\n",
       "    </tr>\n",
       "    <tr>\n",
       "      <th>152399</th>\n",
       "      <td>1186</td>\n",
       "      <td>50400</td>\n",
       "      <td>0</td>\n",
       "    </tr>\n",
       "  </tbody>\n",
       "</table>\n",
       "<p>152400 rows × 3 columns</p>\n",
       "</div>"
      ],
      "text/plain": [
       "         ids  timestamp  counts\n",
       "0       1059      14460       0\n",
       "1       1060      14460       0\n",
       "2       1061      14460       0\n",
       "3       1062      14460       0\n",
       "4       1063      14460       0\n",
       "...      ...        ...     ...\n",
       "152395  1182      50400       0\n",
       "152396  1183      50400       0\n",
       "152397  1184      50400       0\n",
       "152398  1185      50400       0\n",
       "152399  1186      50400       0\n",
       "\n",
       "[152400 rows x 3 columns]"
      ]
     },
     "execution_count": 22,
     "metadata": {},
     "output_type": "execute_result"
    }
   ],
   "source": [
    "occupancies"
   ]
  },
  {
   "cell_type": "code",
   "execution_count": 37,
   "id": "ed0225ff-a16f-4004-beed-fd2a7de75fb7",
   "metadata": {},
   "outputs": [
    {
     "data": {
      "text/plain": [
       "0"
      ]
     },
     "execution_count": 37,
     "metadata": {},
     "output_type": "execute_result"
    }
   ],
   "source": [
    "test = occupancies[occupancies[\"ids\"] == 1120]\n",
    "test[test[\"timestamp\"] == 18060].counts.iloc[0]"
   ]
  },
  {
   "cell_type": "code",
   "execution_count": null,
   "id": "868b2079-4d17-4641-af33-18ec6673d8af",
   "metadata": {},
   "outputs": [],
   "source": [
    "with open(MEASUREMENT_PATH+\"vehicle_measurement.csv\", \"w\") as f:\n",
    "    f.write(\"veh_id,day,timestamp,parking_id,occupancy\\n\")\n",
    "    for i,r in movements.iterrows():\n",
    "        edge_id = idx_to_edge[str(r[\"position\"])]\n",
    "        if edge_id in proximity:\n",
    "            for p_lot in proximity[edge_id]:\n",
    "                time = int((r.timestamp // 60)*60)\n",
    "                count = occupancies[occupancies[\"timestamp\"] == time]\n",
    "                count = count[count[\"ids\"] == int(p_lot)].counts\n",
    "                occupancy = count.iloc[0] / parking_df.loc[int(p_lot)][\"roadsideCapacity\"]\n",
    "                f.write(\"%d,%d,%d,%d,%f\\n\"%(\n",
    "                    r.ids, DAY, r.timestamp, int(p_lot), occupancy\n",
    "                ))"
   ]
  },
  {
   "cell_type": "code",
   "execution_count": null,
   "id": "4307ae20-c095-4aeb-bfd3-354eb21a09bf",
   "metadata": {},
   "outputs": [],
   "source": []
  }
 ],
 "metadata": {
  "kernelspec": {
   "display_name": "fl_sim",
   "language": "python",
   "name": "fl_sim"
  },
  "language_info": {
   "codemirror_mode": {
    "name": "ipython",
    "version": 3
   },
   "file_extension": ".py",
   "mimetype": "text/x-python",
   "name": "python",
   "nbconvert_exporter": "python",
   "pygments_lexer": "ipython3",
   "version": "3.10.4"
  }
 },
 "nbformat": 4,
 "nbformat_minor": 5
}
