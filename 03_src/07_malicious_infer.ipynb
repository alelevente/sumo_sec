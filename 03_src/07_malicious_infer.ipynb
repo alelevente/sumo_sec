{
 "cells": [
  {
   "cell_type": "markdown",
   "id": "a94633ec-35d2-48b4-b75c-f24f13aa36d7",
   "metadata": {},
   "source": [
    "# **Maliciously infering the possible path of a vehicle**"
   ]
  },
  {
   "cell_type": "code",
   "execution_count": 1,
   "id": "75c06b06-7551-4a9c-8daa-b30189e25f2e",
   "metadata": {},
   "outputs": [],
   "source": [
    "%matplotlib inline\n",
    "\n",
    "import tensorflow as tf\n",
    "from tensorflow import keras\n",
    "\n",
    "import pandas as pd\n",
    "import numpy as np\n",
    "\n",
    "import utils\n",
    "\n",
    "from tqdm.notebook import trange\n",
    "\n",
    "import json\n",
    "\n",
    "import matplotlib.pyplot as plt"
   ]
  },
  {
   "cell_type": "code",
   "execution_count": 2,
   "id": "af07d223-bf2f-459d-8710-c39ff56f761e",
   "metadata": {},
   "outputs": [],
   "source": [
    "MEAS_ROOT = \"../dockeroutput/\""
   ]
  },
  {
   "cell_type": "markdown",
   "id": "58576034-6cdb-4db0-aaf6-84f16c4f9e36",
   "metadata": {
    "jp-MarkdownHeadingCollapsed": true,
    "tags": []
   },
   "source": [
    "## **Preparing oracle knowledge**"
   ]
  },
  {
   "cell_type": "code",
   "execution_count": 3,
   "id": "fb6615d0-e15f-4397-86a5-1d2215b02634",
   "metadata": {},
   "outputs": [],
   "source": [
    "#reading capacity data:\n",
    "MOST_PATH = \"../build_inputs//MoSTScenario/scenario/most.sumocfg\"\n",
    "PARKING_AREA_DEFINITIONS = \"../build_inputs/MoSTScenario/scenario/in/add/most.parking.add.xml\"\n",
    "\n",
    "parking_df = pd.read_xml(PARKING_AREA_DEFINITIONS)\n",
    "parking_df = parking_df[parking_df[\"roadsideCapacity\"]>0]\n",
    "parking_df = parking_df.set_index([\"id\"])"
   ]
  },
  {
   "cell_type": "code",
   "execution_count": 5,
   "id": "2569a27c-cd60-495e-a159-47e90f7ee942",
   "metadata": {},
   "outputs": [],
   "source": [
    "def collect_data(min_day, max_day):\n",
    "    collected_data = None\n",
    "    for day in trange(min_day, max_day):\n",
    "        meas_path = MEAS_ROOT + \"day_%d/\"%day\n",
    "        df_ = pd.read_csv(meas_path+\"occupancies.csv\")\n",
    "        perc_ = []\n",
    "        for i,r in df_.iterrows():\n",
    "            perc_.append(r.counts/parking_df.loc[r.ids][\"roadsideCapacity\"])\n",
    "        df_[\"percentage\"] = perc_\n",
    "        if collected_data is None:\n",
    "            collected_data = df_\n",
    "        else:\n",
    "            collected_data = pd.concat([collected_data, df_])\n",
    "    return collected_data"
   ]
  },
  {
   "cell_type": "code",
   "execution_count": 31,
   "id": "e35b910e-af5f-4231-ba35-c2e9655a5d7f",
   "metadata": {},
   "outputs": [
    {
     "data": {
      "application/vnd.jupyter.widget-view+json": {
       "model_id": "c1ffb3c699b449e79c8ec7530b4bf665",
       "version_major": 2,
       "version_minor": 0
      },
      "text/plain": [
       "  0%|          | 0/60 [00:00<?, ?it/s]"
      ]
     },
     "metadata": {},
     "output_type": "display_data"
    }
   ],
   "source": [
    "oracle = collect_data(0, 60)"
   ]
  },
  {
   "cell_type": "code",
   "execution_count": 32,
   "id": "97f43cd5-0d37-464c-98b2-07a4c65f8aa1",
   "metadata": {},
   "outputs": [],
   "source": [
    "oracle.to_csv(\"../02_data/oracle.csv\", index=False)"
   ]
  },
  {
   "cell_type": "markdown",
   "id": "94c443d0-911f-4594-942f-79c6f679db81",
   "metadata": {},
   "source": [
    "## **Checking a model**"
   ]
  },
  {
   "cell_type": "code",
   "execution_count": 3,
   "id": "76d974dc-c80c-4c55-a25a-3fafef549a31",
   "metadata": {},
   "outputs": [],
   "source": [
    "oracle = pd.read_csv(\"../02_data/oracle.csv\")"
   ]
  },
  {
   "cell_type": "code",
   "execution_count": 4,
   "id": "c4f2541b-0ba9-4eac-b90a-1be3f432f52f",
   "metadata": {},
   "outputs": [],
   "source": [
    "VEHICLE_ID = \"commercial_3-1_98\""
   ]
  },
  {
   "cell_type": "code",
   "execution_count": 5,
   "id": "cb74da56-18b5-4e11-bed1-e83c44879045",
   "metadata": {},
   "outputs": [],
   "source": [
    "with open(\"../dockeroutput/day_0/vehicle_maps.json\", \"r\") as f:\n",
    "    maps = json.load(f)\n",
    "    nominal_veh_to_id_encoding = maps[\"vehicle_to_idx_map\"]\n",
    "    nominal_id_to_veh_encoding = maps[\"idx_to_vehicle_map\"]"
   ]
  },
  {
   "cell_type": "code",
   "execution_count": 6,
   "id": "ec05d1ad-b6e2-4fbf-aac3-1365e973bb82",
   "metadata": {},
   "outputs": [],
   "source": [
    "veh_idx = nominal_veh_to_id_encoding[VEHICLE_ID]"
   ]
  },
  {
   "cell_type": "code",
   "execution_count": 7,
   "id": "fbd5d8d4-1c3b-4b00-85b7-8dfab17d2e14",
   "metadata": {},
   "outputs": [
    {
     "name": "stderr",
     "output_type": "stream",
     "text": [
      "2023-02-17 18:47:40.456635: I tensorflow/stream_executor/cuda/cuda_gpu_executor.cc:975] successful NUMA node read from SysFS had negative value (-1), but there must be at least one NUMA node, so returning NUMA node zero\n",
      "2023-02-17 18:47:40.516816: I tensorflow/stream_executor/cuda/cuda_gpu_executor.cc:975] successful NUMA node read from SysFS had negative value (-1), but there must be at least one NUMA node, so returning NUMA node zero\n",
      "2023-02-17 18:47:40.517068: I tensorflow/stream_executor/cuda/cuda_gpu_executor.cc:975] successful NUMA node read from SysFS had negative value (-1), but there must be at least one NUMA node, so returning NUMA node zero\n",
      "2023-02-17 18:47:40.518501: I tensorflow/core/platform/cpu_feature_guard.cc:193] This TensorFlow binary is optimized with oneAPI Deep Neural Network Library (oneDNN) to use the following CPU instructions in performance-critical operations:  AVX2 FMA\n",
      "To enable them in other operations, rebuild TensorFlow with the appropriate compiler flags.\n",
      "2023-02-17 18:47:40.519673: I tensorflow/stream_executor/cuda/cuda_gpu_executor.cc:975] successful NUMA node read from SysFS had negative value (-1), but there must be at least one NUMA node, so returning NUMA node zero\n",
      "2023-02-17 18:47:40.519986: I tensorflow/stream_executor/cuda/cuda_gpu_executor.cc:975] successful NUMA node read from SysFS had negative value (-1), but there must be at least one NUMA node, so returning NUMA node zero\n",
      "2023-02-17 18:47:40.520261: I tensorflow/stream_executor/cuda/cuda_gpu_executor.cc:975] successful NUMA node read from SysFS had negative value (-1), but there must be at least one NUMA node, so returning NUMA node zero\n",
      "2023-02-17 18:47:41.253876: I tensorflow/stream_executor/cuda/cuda_gpu_executor.cc:975] successful NUMA node read from SysFS had negative value (-1), but there must be at least one NUMA node, so returning NUMA node zero\n",
      "2023-02-17 18:47:41.254075: I tensorflow/stream_executor/cuda/cuda_gpu_executor.cc:975] successful NUMA node read from SysFS had negative value (-1), but there must be at least one NUMA node, so returning NUMA node zero\n",
      "2023-02-17 18:47:41.254231: I tensorflow/stream_executor/cuda/cuda_gpu_executor.cc:975] successful NUMA node read from SysFS had negative value (-1), but there must be at least one NUMA node, so returning NUMA node zero\n",
      "2023-02-17 18:47:41.254367: I tensorflow/core/common_runtime/gpu/gpu_device.cc:1532] Created device /job:localhost/replica:0/task:0/device:GPU:0 with 9859 MB memory:  -> device: 0, name: NVIDIA GeForce RTX 3060, pci bus id: 0000:08:00.0, compute capability: 8.6\n"
     ]
    }
   ],
   "source": [
    "model = keras.models.load_model(\"../04_nn_models/ind_%s\"%VEHICLE_ID)"
   ]
  },
  {
   "cell_type": "code",
   "execution_count": 8,
   "id": "280b63a9-87a4-4825-9b7e-66840104bf7c",
   "metadata": {},
   "outputs": [],
   "source": [
    "PARKING_ID_LIST = [i for i in range(1059, 1186+1)]\n",
    "MIN_T = 18220\n",
    "MAX_T = 46800\n",
    "MEAN = 0.59\n",
    "STD = 0.35302"
   ]
  },
  {
   "cell_type": "markdown",
   "id": "3a4ae207-2be0-4009-b4cf-dffa67a180a5",
   "metadata": {
    "tags": []
   },
   "source": [
    "## **Inference**"
   ]
  },
  {
   "cell_type": "markdown",
   "id": "0730d60f-2609-493f-9c6c-25fe8af44946",
   "metadata": {
    "tags": []
   },
   "source": [
    "### Checking average number of known parking lots:"
   ]
  },
  {
   "cell_type": "code",
   "execution_count": 9,
   "id": "e012b669-d98e-4f88-b026-85c730a2928a",
   "metadata": {},
   "outputs": [],
   "source": [
    "with open(\"../02_data/known_parkings.json\", \"r\") as f:\n",
    "    known_parkings_by_vehicles = json.load(f)\n",
    "with open(\"../02_data/known_moving_times.json\", \"r\") as f:\n",
    "    known_moving_times = json.load(f)"
   ]
  },
  {
   "cell_type": "code",
   "execution_count": 14,
   "id": "5ed27058-df33-4fb9-8ed5-87560b2c758f",
   "metadata": {},
   "outputs": [
    {
     "name": "stdout",
     "output_type": "stream",
     "text": [
      "Average number of known parking lots:\t5.22\n"
     ]
    }
   ],
   "source": [
    "num_known = []\n",
    "for i in known_parkings_by_vehicles:\n",
    "    num_known.append(len(known_parkings_by_vehicles[i]))\n",
    "print(\"Average number of known parking lots:\\t%.2f\"%np.mean(num_known))"
   ]
  },
  {
   "cell_type": "markdown",
   "id": "6aace865-dbaa-4d9e-9b63-c3b841ebcdfd",
   "metadata": {},
   "source": [
    "> The best 5 parking lots will be candidates for visited parking lots."
   ]
  },
  {
   "cell_type": "markdown",
   "id": "97e2bd17-6ddc-409d-b076-ee1b907668b0",
   "metadata": {
    "tags": []
   },
   "source": [
    "### **Location**"
   ]
  },
  {
   "cell_type": "code",
   "execution_count": 10,
   "id": "ee35e3dd-a067-4bec-8c97-cac6b3a95884",
   "metadata": {},
   "outputs": [],
   "source": [
    "NUM_BEST = 5"
   ]
  },
  {
   "cell_type": "code",
   "execution_count": 11,
   "id": "428cba7b-6475-4ccb-a567-36cc1326f70d",
   "metadata": {},
   "outputs": [],
   "source": [
    "test_t = np.arange(14460, 50400+1, 60)\n",
    "test_t = utils.normalize(test_t, MIN_T, MAX_T)"
   ]
  },
  {
   "cell_type": "code",
   "execution_count": 12,
   "id": "76e1329b-664c-4a58-8bfd-95f6693decd4",
   "metadata": {},
   "outputs": [
    {
     "name": "stderr",
     "output_type": "stream",
     "text": [
      "2023-02-17 18:47:52.731432: I tensorflow/stream_executor/cuda/cuda_blas.cc:1786] TensorFloat-32 will be used for the matrix multiplication. This will only be logged once.\n"
     ]
    }
   ],
   "source": [
    "parking_losses = []\n",
    "plist=[i for i in range(1059,1186+1)]\n",
    "plist.remove(1148)\n",
    "\n",
    "for parking in plist:\n",
    "    id_encoding = utils.one_hot_encoder([parking]*len(test_t), PARKING_ID_LIST)\n",
    "    test_d = np.hstack([id_encoding, test_t.reshape(len(test_t), 1)])\n",
    "    occup = model.predict(test_d, batch_size=1000, verbose=0).reshape(len(test_t))\n",
    "    oracle_occup = utils.standardize(oracle[oracle[\"ids\"] == parking].groupby(\"timestamp\")[\"percentage\"].mean(),\n",
    "                                     MEAN, STD)\n",
    "    loss = np.mean((occup-oracle_occup)**2)\n",
    "    parking_losses.append(loss)"
   ]
  },
  {
   "cell_type": "code",
   "execution_count": 13,
   "id": "908e7358-1329-496a-b643-c2fa43032d82",
   "metadata": {},
   "outputs": [],
   "source": [
    "nominal_vehicle_data = pd.read_csv(MEAS_ROOT+\"day_0/vehicle_measurement.csv\")\n",
    "known_p_lots = nominal_vehicle_data[nominal_vehicle_data[\"veh_id\"] == VEHICLE_ID][\"parking_id\"].unique()"
   ]
  },
  {
   "cell_type": "code",
   "execution_count": 14,
   "id": "570184f2-1c84-4f6a-aba2-318d1b1e6859",
   "metadata": {},
   "outputs": [],
   "source": [
    "best_parkings = np.argsort(parking_losses)[:NUM_BEST]+min(plist)\n",
    "for i in range(len(best_parkings)):\n",
    "    if best_parkings[i] > 1148:\n",
    "        best_parkings[i] += 1"
   ]
  },
  {
   "cell_type": "code",
   "execution_count": 15,
   "id": "e4058a13-5f17-4ab4-88da-adbf8df05e50",
   "metadata": {},
   "outputs": [
    {
     "data": {
      "text/plain": [
       "array([1087, 1178, 1123, 1145, 1147])"
      ]
     },
     "execution_count": 15,
     "metadata": {},
     "output_type": "execute_result"
    }
   ],
   "source": [
    "best_parkings"
   ]
  },
  {
   "cell_type": "code",
   "execution_count": 16,
   "id": "dc0014ad-b3c7-45ac-9834-21bec1d5b33d",
   "metadata": {},
   "outputs": [
    {
     "data": {
      "text/plain": [
       "array([1087, 1140, 1178, 1139, 1111, 1123, 1145, 1147])"
      ]
     },
     "execution_count": 16,
     "metadata": {},
     "output_type": "execute_result"
    }
   ],
   "source": [
    "known_p_lots"
   ]
  },
  {
   "cell_type": "code",
   "execution_count": 17,
   "id": "c110e695-5dd6-46a2-8de9-b386bba76758",
   "metadata": {},
   "outputs": [
    {
     "data": {
      "image/png": "[encoded data removed]",
      "text/plain": [
       "<Figure size 640x480 with 1 Axes>"
      ]
     },
     "metadata": {},
     "output_type": "display_data"
    }
   ],
   "source": [
    "colors = []\n",
    "unknown_x, unknown_y = [], []\n",
    "known_x, known_y = [], []\n",
    "best_x, best_y = [], []\n",
    "\n",
    "for i, parking in enumerate(plist):\n",
    "    if parking in best_parkings:\n",
    "        best_x.append(parking)\n",
    "        best_y.append(parking_losses[i])\n",
    "    if parking in known_p_lots:\n",
    "        known_x.append(parking)\n",
    "        known_y.append(parking_losses[i])\n",
    "    else:\n",
    "        unknown_x.append(parking)\n",
    "        unknown_y.append(parking_losses[i])\n",
    "\n",
    "plt.scatter(best_x, best_y, marker=\"d\", s=80, color=\"tab:red\", label=\"best estimates\")\n",
    "plt.scatter(known_x, known_y, marker=\"x\", color=\"k\", label=\"known parkings\")\n",
    "plt.scatter(unknown_x, unknown_y, marker=\"o\", color=\"tab:blue\", label=\"unknown parkings\", alpha=.6)\n",
    "\n",
    "plt.legend()\n",
    "plt.xlabel(\"Parking IDs\")\n",
    "plt.ylabel(\"loss (MSE)\")\n",
    "plt.title(\"Average prediction losses\\nper parking lots\\n%s\"%VEHICLE_ID)\n",
    "plt.ylim(-0.5, 7)\n",
    "plt.savefig(\"../05_doc/img/ploss_%s.png\"%VEHICLE_ID)"
   ]
  },
  {
   "cell_type": "markdown",
   "id": "5111cafc-ab50-4178-8961-5b18fe72841d",
   "metadata": {},
   "source": [
    "### **Time**"
   ]
  },
  {
   "cell_type": "code",
   "execution_count": 18,
   "id": "51f36334-3062-42ac-a2ca-28f1f0a216cb",
   "metadata": {},
   "outputs": [],
   "source": [
    "parking_losses_time = []\n",
    "\n",
    "for t in range(14460, 50400+1, 60):\n",
    "    id_encoding = utils.one_hot_encoder(best_parkings, PARKING_ID_LIST)\n",
    "    time = np.array([utils.normalize(t, MIN_T, MAX_T)]*len(id_encoding))\n",
    "    test_d = np.hstack([id_encoding, time.reshape(len(id_encoding), 1)])\n",
    "    occup = model.predict(test_d, batch_size=1000, verbose=0).reshape(len(best_parkings))\n",
    "    oracle_occup = []\n",
    "    for bp in best_parkings:\n",
    "        oracle_f = oracle[oracle[\"ids\"] == bp]\n",
    "        oracle_occup.append(utils.standardize(oracle_f[oracle_f[\"timestamp\"] == t].groupby(\"ids\")[\"percentage\"].mean(),\n",
    "                                         MEAN, STD))\n",
    "    #loss = np.sum( ((occup-oracle_occup)**2) < 0.01)\n",
    "    oracle_occup = np.array(oracle_occup)\n",
    "    loss = np.mean((occup-oracle_occup)**2)\n",
    "    #loss = np.std(occup)\n",
    "    parking_losses_time.append(loss)"
   ]
  },
  {
   "cell_type": "code",
   "execution_count": 19,
   "id": "e2e6b6c9-4342-4204-87ac-cf20ecbb0111",
   "metadata": {},
   "outputs": [],
   "source": [
    "#removing \"random peaks\" by moving average of 60 minutes:\n",
    "WINDOW = 60\n",
    "parking_losses_cv = np.convolve(parking_losses_time, np.ones(WINDOW))/WINDOW\n",
    "parking_losses_cv = parking_losses_cv[WINDOW:]\n",
    "parking_losses_cv = parking_losses_cv[:-WINDOW]"
   ]
  },
  {
   "cell_type": "code",
   "execution_count": 20,
   "id": "63c1ef41-15e8-4c78-addc-4c7cd581f4db",
   "metadata": {},
   "outputs": [
    {
     "data": {
      "text/plain": [
       "659"
      ]
     },
     "execution_count": 20,
     "metadata": {},
     "output_type": "execute_result"
    }
   ],
   "source": [
    "len(parking_losses_cv)+120"
   ]
  },
  {
   "cell_type": "code",
   "execution_count": 21,
   "id": "f651dc2b-0b0e-4f42-b803-e96a10793976",
   "metadata": {},
   "outputs": [
    {
     "data": {
      "text/plain": [
       "5.416666666666667"
      ]
     },
     "execution_count": 21,
     "metadata": {},
     "output_type": "execute_result"
    }
   ],
   "source": [
    "np.argmin(parking_losses_cv)/60"
   ]
  },
  {
   "cell_type": "code",
   "execution_count": 22,
   "id": "c46ca95d-7291-435e-b85b-3902abb7a7c2",
   "metadata": {},
   "outputs": [
    {
     "data": {
      "image/png": "[encoded data removed]",
      "text/plain": [
       "<Figure size 640x480 with 1 Axes>"
      ]
     },
     "metadata": {},
     "output_type": "display_data"
    }
   ],
   "source": [
    "predt = np.argmin(parking_losses_cv)+4*60+WINDOW\n",
    "pred_h = predt // 60\n",
    "pred_m = predt % 60\n",
    "\n",
    "realt = int(known_moving_times[VEHICLE_ID]/60)\n",
    "real_h = realt // 60\n",
    "real_m = realt % 60\n",
    "\n",
    "plt.plot(np.linspace(4+WINDOW/60, 15-WINDOW/60, len(parking_losses_cv)), parking_losses_cv,\n",
    "         label=\"mean loss (est.: %d:%d)\"%(pred_h, pred_m))\n",
    "plt.axvline(x=realt/60, ymin=0, ymax=0.5,\n",
    "           c=\"r\", label=\"real mean observation time (%d:%d)\"%(real_h, real_m))\n",
    "plt.xlabel(\"time [h]\")\n",
    "plt.ylabel(\"loss (MSE)\")\n",
    "plt.ylim(0, 1.5)\n",
    "plt.title(\"Average prediction losses\\non best 5 parking lots\\n%s\"%VEHICLE_ID)\n",
    "plt.legend()\n",
    "plt.savefig(\"../05_doc/img/tloss_%s.png\"%VEHICLE_ID)\n",
    "#plt.plot(parking_losses_time)\n",
    "#print((np.argmin(parking_losses_time)*60+14400)/3600)\n",
    "#plt.plot(np.convolve(parking_losses_time, np.ones(90))/90, alpha=0.4, label=\"error\")\n",
    "#plt.plot(np.diff(parking_losses_time), alpha=0.4, label=\"error\")"
   ]
  }
 ],
 "metadata": {
  "kernelspec": {
   "display_name": "tf_env",
   "language": "python",
   "name": "tf_env"
  },
  "language_info": {
   "codemirror_mode": {
    "name": "ipython",
    "version": 3
   },
   "file_extension": ".py",
   "mimetype": "text/x-python",
   "name": "python",
   "nbconvert_exporter": "python",
   "pygments_lexer": "ipython3",
   "version": "3.10.4"
  }
 },
 "nbformat": 4,
 "nbformat_minor": 5
}
