{
 "cells": [
  {
   "cell_type": "markdown",
   "id": "2a55ec7d-fed9-4071-9b2b-c98f53548d06",
   "metadata": {},
   "source": [
    "# **Converting raw results into a NN-input**"
   ]
  },
  {
   "cell_type": "code",
   "execution_count": 1,
   "id": "f5ae8449-be0a-4be3-b815-ed50ae57ff46",
   "metadata": {},
   "outputs": [],
   "source": [
    "import numpy as np\n",
    "import pandas as pd"
   ]
  },
  {
   "cell_type": "code",
   "execution_count": 2,
   "id": "41f68c33-c731-4e57-a56d-064c0036f778",
   "metadata": {},
   "outputs": [],
   "source": [
    "RAW_OCCUPATION = \"../02_data/occupancies.csv\""
   ]
  },
  {
   "cell_type": "code",
   "execution_count": 3,
   "id": "edfe6655-f1f2-4ee3-88d4-9f4f3543f6ef",
   "metadata": {},
   "outputs": [],
   "source": [
    "raw_df = pd.read_csv(RAW_OCCUPATION)"
   ]
  },
  {
   "cell_type": "code",
   "execution_count": 20,
   "id": "e8555a00-3b7e-495d-b85c-331f5e3d7792",
   "metadata": {},
   "outputs": [
    {
     "data": {
      "text/html": [
       "<div>\n",
       "<style scoped>\n",
       "    .dataframe tbody tr th:only-of-type {\n",
       "        vertical-align: middle;\n",
       "    }\n",
       "\n",
       "    .dataframe tbody tr th {\n",
       "        vertical-align: top;\n",
       "    }\n",
       "\n",
       "    .dataframe thead th {\n",
       "        text-align: right;\n",
       "    }\n",
       "</style>\n",
       "<table border=\"1\" class=\"dataframe\">\n",
       "  <thead>\n",
       "    <tr style=\"text-align: right;\">\n",
       "      <th></th>\n",
       "      <th>ids</th>\n",
       "      <th>timestamp</th>\n",
       "      <th>counts</th>\n",
       "    </tr>\n",
       "  </thead>\n",
       "  <tbody>\n",
       "    <tr>\n",
       "      <th>0</th>\n",
       "      <td>1059</td>\n",
       "      <td>14460</td>\n",
       "      <td>0</td>\n",
       "    </tr>\n",
       "    <tr>\n",
       "      <th>1</th>\n",
       "      <td>1060</td>\n",
       "      <td>14460</td>\n",
       "      <td>0</td>\n",
       "    </tr>\n",
       "    <tr>\n",
       "      <th>2</th>\n",
       "      <td>1061</td>\n",
       "      <td>14460</td>\n",
       "      <td>0</td>\n",
       "    </tr>\n",
       "    <tr>\n",
       "      <th>3</th>\n",
       "      <td>1062</td>\n",
       "      <td>14460</td>\n",
       "      <td>0</td>\n",
       "    </tr>\n",
       "    <tr>\n",
       "      <th>4</th>\n",
       "      <td>1063</td>\n",
       "      <td>14460</td>\n",
       "      <td>0</td>\n",
       "    </tr>\n",
       "  </tbody>\n",
       "</table>\n",
       "</div>"
      ],
      "text/plain": [
       "    ids  timestamp  counts\n",
       "0  1059      14460       0\n",
       "1  1060      14460       0\n",
       "2  1061      14460       0\n",
       "3  1062      14460       0\n",
       "4  1063      14460       0"
      ]
     },
     "execution_count": 20,
     "metadata": {},
     "output_type": "execute_result"
    }
   ],
   "source": [
    "raw_df.head()"
   ]
  },
  {
   "cell_type": "markdown",
   "id": "b3d4fe91-6f81-4d88-b1c6-b157c13da8c4",
   "metadata": {},
   "source": [
    "## ID 1-hot encoding"
   ]
  },
  {
   "cell_type": "code",
   "execution_count": 14,
   "id": "df029555-d9fa-4e20-8a3a-f7badc4e0dbc",
   "metadata": {},
   "outputs": [],
   "source": [
    "id_list = list(raw_df.ids.unique())"
   ]
  },
  {
   "cell_type": "code",
   "execution_count": 15,
   "id": "20345ba4-088e-4864-ad8b-573abde8653e",
   "metadata": {},
   "outputs": [],
   "source": [
    "id_encoding = np.zeros((len(raw_df), len(id_list)))"
   ]
  },
  {
   "cell_type": "code",
   "execution_count": 19,
   "id": "a14fcd96-92ab-45a0-9333-5d2462b8ed03",
   "metadata": {},
   "outputs": [],
   "source": [
    "for i,r in raw_df.iterrows():\n",
    "    id_encoding[i, id_list.index(r.ids)] = 1.0"
   ]
  },
  {
   "cell_type": "markdown",
   "id": "06205441-7b8e-4e6b-b1fc-c8cc5e4d58a6",
   "metadata": {},
   "source": [
    "## Adding timestamps and labels"
   ]
  },
  {
   "cell_type": "code",
   "execution_count": 33,
   "id": "80628709-d14e-4594-a26a-53fb1f353064",
   "metadata": {},
   "outputs": [],
   "source": [
    "timestamps = np.array(raw_df[\"timestamp\"]).reshape(len(raw_df), 1)\n",
    "timestamps = timestamps - min(timestamps)\n",
    "timestamps = timestamps / max(timestamps)"
   ]
  },
  {
   "cell_type": "code",
   "execution_count": 34,
   "id": "4d2538ea-80c4-414b-9758-67166c4b2d00",
   "metadata": {},
   "outputs": [],
   "source": [
    "counts = np.array(raw_df[\"counts\"]).reshape(len(raw_df), 1)\n",
    "counts = counts-np.mean(counts)\n",
    "counts = counts / np.std(counts)"
   ]
  },
  {
   "cell_type": "code",
   "execution_count": 35,
   "id": "b57d418f-344d-44cc-8b04-eac4a42beddb",
   "metadata": {},
   "outputs": [],
   "source": [
    "collected_df = np.hstack([id_encoding, timestamps, counts])"
   ]
  },
  {
   "cell_type": "code",
   "execution_count": 36,
   "id": "6af4ebc5-2ea8-4829-b0f1-33316df44a3c",
   "metadata": {},
   "outputs": [
    {
     "data": {
      "text/plain": [
       "(1981200, 129)"
      ]
     },
     "execution_count": 36,
     "metadata": {},
     "output_type": "execute_result"
    }
   ],
   "source": [
    "collected_df.shape"
   ]
  },
  {
   "cell_type": "markdown",
   "id": "a24d1ae2-da13-400e-abb8-5fb8c6162827",
   "metadata": {},
   "source": [
    "## Saving result"
   ]
  },
  {
   "cell_type": "code",
   "execution_count": 38,
   "id": "a012f172-303e-4eab-9103-7b67351f13e3",
   "metadata": {},
   "outputs": [],
   "source": [
    "pd.DataFrame(collected_df).to_csv(\"../02_data/nn.csv\", header=None, index=None)"
   ]
  }
 ],
 "metadata": {
  "kernelspec": {
   "display_name": "tf_env",
   "language": "python",
   "name": "tf_env"
  },
  "language_info": {
   "codemirror_mode": {
    "name": "ipython",
    "version": 3
   },
   "file_extension": ".py",
   "mimetype": "text/x-python",
   "name": "python",
   "nbconvert_exporter": "python",
   "pygments_lexer": "ipython3",
   "version": "3.10.4"
  }
 },
 "nbformat": 4,
 "nbformat_minor": 5
}
