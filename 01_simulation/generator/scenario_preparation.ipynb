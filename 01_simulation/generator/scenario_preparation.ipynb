{
 "cells": [
  {
   "cell_type": "markdown",
   "id": "b44afc20",
   "metadata": {},
   "source": [
    "# **Parking lot generation**\n",
    "\n",
    "This notebook is used to create the basic simulation. Basic simulation consists of:\n",
    "- randomized network\n",
    "- with randomized parking lots (capacity for 400 vehicles)\n",
    "- 400 random vehicle trips\n",
    "- which terminates in parking lots\n",
    "- parking rerouters to everyone find a parking lot\n",
    "\n",
    "**Prerequisites:**\n",
    "1. Install [Eclipse SUMO](https://www.eclipse.org/sumo/)\n",
    "2. Set the SUMO_HOME variable"
   ]
  },
  {
   "cell_type": "code",
   "execution_count": 1,
   "id": "358c1428",
   "metadata": {},
   "outputs": [],
   "source": [
    "import xml.etree.ElementTree as ET\n",
    "from xml.dom import minidom\n",
    "import numpy as np\n",
    "import os"
   ]
  },
  {
   "cell_type": "code",
   "execution_count": 2,
   "id": "e994fedc",
   "metadata": {},
   "outputs": [],
   "source": [
    "SUMO_HOME = \"/usr/share/sumo\""
   ]
  },
  {
   "cell_type": "markdown",
   "id": "16676bc9",
   "metadata": {},
   "source": [
    "## **Creating random trips for the SUMO simulation**"
   ]
  },
  {
   "cell_type": "code",
   "execution_count": 6,
   "id": "2301f092-0064-4d03-ab52-4de16a382ce5",
   "metadata": {},
   "outputs": [
    {
     "name": "stderr",
     "output_type": "stream",
     "text": [
      "activitygen: /home/madbiker/miniconda3/envs/tf_env/lib/libtiff.so.5: no version information available (required by /lib/x86_64-linux-gnu/libproj.so.22)\n",
      "activitygen: /home/madbiker/miniconda3/envs/tf_env/lib/libtiff.so.5: no version information available (required by /lib/x86_64-linux-gnu/libFOX-1.6.so.0)\n"
     ]
    },
    {
     "name": "stdout",
     "output_type": "stream",
     "text": [
      "Loading net ... done.\n",
      "Loaded 4434 edges.\n",
      "Reading input ... done.\n",
      "Consolidating statistics ... "
     ]
    },
    {
     "name": "stderr",
     "output_type": "stream",
     "text": [
      "Segmentation fault (core dumped)\n"
     ]
    },
    {
     "data": {
      "text/plain": [
       "35584"
      ]
     },
     "execution_count": 6,
     "metadata": {},
     "output_type": "execute_result"
    }
   ],
   "source": [
    "os.system(\"activitygen --verbose -b 0 -e 86400 --net-file ../osm.net.xml --stat-file ../stats.xml --output-file ../gen.trips.rou.xml --random\")"
   ]
  },
  {
   "cell_type": "code",
   "execution_count": 39,
   "id": "cf57cbfc",
   "metadata": {},
   "outputs": [
    {
     "data": {
      "text/plain": [
       "0"
      ]
     },
     "execution_count": 39,
     "metadata": {},
     "output_type": "execute_result"
    }
   ],
   "source": [
    "os.system(\"jtrrouter -c flow_gen.jtrrcfg --vtype-output ../vtype.xml\")"
   ]
  },
  {
   "cell_type": "markdown",
   "id": "3ea764cc",
   "metadata": {},
   "source": [
    "## **Generating parking lots**"
   ]
  },
  {
   "cell_type": "markdown",
   "id": "f2c1e6d1",
   "metadata": {},
   "source": [
    "### Reading SUMO network"
   ]
  },
  {
   "cell_type": "code",
   "execution_count": 40,
   "id": "fb8854a4",
   "metadata": {},
   "outputs": [],
   "source": [
    "tree = ET.parse('../network.net.xml')\n",
    "root = tree.getroot()"
   ]
  },
  {
   "cell_type": "code",
   "execution_count": 41,
   "id": "e715bd83",
   "metadata": {},
   "outputs": [],
   "source": [
    "edge_ids = []\n",
    "lengths = []\n",
    "for neighbor in root.findall('edge'):\n",
    "    if neighbor.attrib[\"id\"][0] != \":\":\n",
    "        edge_ids.append(neighbor.attrib[\"id\"])\n",
    "        for lane in neighbor.findall(\"lane\"):\n",
    "            lengths.append(lane.attrib[\"length\"])"
   ]
  },
  {
   "cell_type": "code",
   "execution_count": 42,
   "id": "c51499c4",
   "metadata": {},
   "outputs": [],
   "source": [
    "edge_ids = np.array(edge_ids)\n",
    "lengths = np.array(lengths)"
   ]
  },
  {
   "cell_type": "markdown",
   "id": "9c167d70",
   "metadata": {},
   "source": [
    "### Writing parking lots"
   ]
  },
  {
   "cell_type": "code",
   "execution_count": 43,
   "id": "47a2adf0",
   "metadata": {},
   "outputs": [],
   "source": [
    "num_cars = 200 #how many cars are in the simulation\n",
    "parking_lot_length = 6 #how long a parking lot shall be, given in meters\n",
    "save_to = \"../parkings.add.xml\" #where to save parking description file"
   ]
  },
  {
   "cell_type": "code",
   "execution_count": 44,
   "id": "d1f03642",
   "metadata": {},
   "outputs": [
    {
     "data": {
      "text/plain": [
       "<DOM Element: additionals at 0x7f3275dd76d0>"
      ]
     },
     "execution_count": 44,
     "metadata": {},
     "output_type": "execute_result"
    }
   ],
   "source": [
    "#creating the corresponding xml document:\n",
    "write_root = minidom.Document()\n",
    "\n",
    "xml = write_root.createElement(\"additionals\")\n",
    "write_root.appendChild(xml)"
   ]
  },
  {
   "cell_type": "code",
   "execution_count": 45,
   "id": "9ce87a92",
   "metadata": {},
   "outputs": [],
   "source": [
    "#selecting edges for the parking lots:\n",
    "generated_lots = 0\n",
    "gen_ids = []\n",
    "#generate at least enough parking lots for the vehicles:\n",
    "while generated_lots < num_cars:\n",
    "    i = np.random.choice(a=range(0, len(edge_ids)), size=1)[0]\n",
    "    if not(\"pl%s\"%edge_ids[i] in gen_ids): #only unique parking lots are generated:\n",
    "        park_area = write_root.createElement(\"parkingArea\")\n",
    "        park_area.setAttribute(\"id\", \"pl%s\"%edge_ids[i])\n",
    "        gen_ids.append(\"pl%s\"%edge_ids[i])\n",
    "        park_area.setAttribute(\"lane\", \"%s_0\"%edge_ids[i])\n",
    "        park_area.setAttribute(\"startPos\", \"0\")\n",
    "        park_area.setAttribute(\"endPos\", \"%f\"%float(lengths[i]))\n",
    "        park_area.setAttribute(\"roadsideCapacity\", \"%d\"%(float(lengths[i])//parking_lot_length))\n",
    "        generated_lots += float(lengths[i])//parking_lot_length\n",
    "        xml.appendChild(park_area)"
   ]
  },
  {
   "cell_type": "code",
   "execution_count": 46,
   "id": "11938697",
   "metadata": {},
   "outputs": [],
   "source": [
    "xml_str = write_root.toprettyxml(indent =\"\\t\") \n",
    "with open(save_to, \"w\") as f:\n",
    "    f.write(xml_str)"
   ]
  },
  {
   "cell_type": "markdown",
   "id": "71452711",
   "metadata": {},
   "source": [
    "# **Assigning vehicles to parking lots**\n",
    "\n",
    "For convenience, we will generate `incomplete routes` in case a vehicle does not pass any parking lot. (SUMO can handle this case.)"
   ]
  },
  {
   "cell_type": "code",
   "execution_count": 47,
   "id": "a5dccef5",
   "metadata": {},
   "outputs": [],
   "source": [
    "save_to_route = \"../parking_routes.rou.xml\" #file into save the created parking routes"
   ]
  },
  {
   "cell_type": "code",
   "execution_count": 48,
   "id": "7ca6881a",
   "metadata": {},
   "outputs": [],
   "source": [
    "route_doc = minidom.parse('routes.xml') #file where routes are stored without stops at parking lots"
   ]
  },
  {
   "cell_type": "code",
   "execution_count": 49,
   "id": "9aa27898",
   "metadata": {},
   "outputs": [],
   "source": [
    "for veh in route_doc.getElementsByTagName('vehicle'):\n",
    "    route = veh.getElementsByTagName(\"route\")\n",
    "    route = route[0].getAttribute(\"edges\").split(\" \")\n",
    "    route = [\"pl\"+x for x in route]\n",
    "    \n",
    "    i = 0\n",
    "    while i<len(route) and not(route[-i] in gen_ids): i += 1\n",
    "    if i>=len(route):\n",
    "        #no parking along the route\n",
    "        #then we add one:\n",
    "        route = veh.getElementsByTagName(\"route\")\n",
    "        i = np.random.choice(a=range(0, len(gen_ids)), size=1)[0]\n",
    "        route[0].setAttribute(\"edges\", route[0].getAttribute(\"edges\")+\" \"+gen_ids[i].split(\"pl\")[-1])\n",
    "    else:\n",
    "        #last edge with parking lot is used:\n",
    "        i = gen_ids.index(route[-i])\n",
    "    #adding a stop at the selected parking lot:\n",
    "    stop = route_doc.createElement(\"stop\")\n",
    "    stop.setAttribute(\"parkingArea\", gen_ids[i])\n",
    "    stop.setAttribute(\"duration\", \"86400\")\n",
    "    veh.setAttribute(\"reroute\", \"true\")\n",
    "    veh.appendChild(stop)"
   ]
  },
  {
   "cell_type": "code",
   "execution_count": 50,
   "id": "901dec46",
   "metadata": {},
   "outputs": [],
   "source": [
    "xml_str = route_doc.toprettyxml(indent =\"\\t\") \n",
    "with open(save_to_route, \"w\") as f:\n",
    "    f.write(xml_str)"
   ]
  },
  {
   "cell_type": "markdown",
   "id": "7f05dc2f",
   "metadata": {},
   "source": [
    "## **Generating ParkingAreaRerouters**"
   ]
  },
  {
   "cell_type": "code",
   "execution_count": 51,
   "id": "e6feb82d",
   "metadata": {},
   "outputs": [
    {
     "data": {
      "text/plain": [
       "0"
      ]
     },
     "execution_count": 51,
     "metadata": {},
     "output_type": "execute_result"
    }
   ],
   "source": [
    "os.system(\"python3 %s/tools/generateParkingAreaRerouters.py -n ../network.net.xml -a ../parkings.add.xml --max-distance-alternatives 10000 --max-distance-visibility-true 1000 -o ../parking_rerouters.add.xml\"%SUMO_HOME)"
   ]
  }
 ],
 "metadata": {
  "kernelspec": {
   "display_name": "fl_sim",
   "language": "python",
   "name": "fl_sim"
  },
  "language_info": {
   "codemirror_mode": {
    "name": "ipython",
    "version": 3
   },
   "file_extension": ".py",
   "mimetype": "text/x-python",
   "name": "python",
   "nbconvert_exporter": "python",
   "pygments_lexer": "ipython3",
   "version": "3.10.4"
  }
 },
 "nbformat": 4,
 "nbformat_minor": 5
}
